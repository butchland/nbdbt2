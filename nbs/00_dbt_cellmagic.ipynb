{
 "cells": [
  {
   "cell_type": "raw",
   "metadata": {},
   "source": [
    "---\n",
    "description: provides the `%%dbt` cell magic for creating models and analyses and\n",
    "  `%dbtconfig` to configure the _dbt project dir_ and _dbt profiles dir_\n",
    "output-file: dbt_cellmagic.html\n",
    "title: DBT Cell Magic\n",
    "\n",
    "---\n",
    "\n"
   ]
  },
  {
   "cell_type": "markdown",
   "metadata": {},
   "source": [
    "# DBT Cell Magic\n",
    "\n",
    "> provides the `%%dbt` cell magic for creating models and analyses and\n",
    "  `%dbtconfig` to configure the _dbt project dir_ and _dbt profiles dir_"
   ]
  },
  {
   "cell_type": "code",
   "execution_count": null,
   "metadata": {},
   "outputs": [],
   "source": [
    "#| default_exp dbt_cellmagic"
   ]
  },
  {
   "cell_type": "code",
   "execution_count": null,
   "metadata": {},
   "outputs": [],
   "source": [
    "#| include: false\n",
    "#| notest\n",
    "%reload_ext autoreload\n",
    "%autoreload 2"
   ]
  },
  {
   "cell_type": "code",
   "execution_count": null,
   "metadata": {},
   "outputs": [],
   "source": [
    "#| include: false\n",
    "from nbdev.showdoc import *"
   ]
  },
  {
   "cell_type": "code",
   "execution_count": null,
   "metadata": {},
   "outputs": [],
   "source": [
    "#| exporti\n",
    "\n",
    "import IPython\n",
    "from IPython.core import magic_arguments\n",
    "from IPython.core.magic import register_cell_magic, register_line_magic"
   ]
  },
  {
   "cell_type": "code",
   "execution_count": null,
   "metadata": {},
   "outputs": [],
   "source": [
    "#| exporti\n",
    "from pathlib import Path\n",
    "from typing import Union, List, Dict, Optional\n",
    "import os\n",
    "import shutil"
   ]
  },
  {
   "cell_type": "code",
   "execution_count": null,
   "metadata": {},
   "outputs": [],
   "source": [
    "#| exporti\n",
    "IN_NBDBT_TEST = os.environ.get(\"IN_NBDBT_TEST\", \"False\").lower() == \"true\"\n",
    "NBDBT_DEBUG = False"
   ]
  },
  {
   "cell_type": "code",
   "execution_count": null,
   "metadata": {},
   "outputs": [],
   "source": [
    "#| exporti\n",
    "from fastcore.all import patch"
   ]
  },
  {
   "cell_type": "code",
   "execution_count": null,
   "metadata": {},
   "outputs": [],
   "source": [
    "#| exporti\n",
    "# from dbt.main import parse_args, adapter_management\n",
    "from dbt.task.compile import CompileTask\n",
    "from dbt.contracts.results import RunExecutionResult\n",
    "import dbt.flags\n",
    "import dbt.tracking"
   ]
  },
  {
   "cell_type": "code",
   "execution_count": null,
   "metadata": {},
   "outputs": [],
   "source": [
    "#| exporti\n",
    "dbt.tracking.active_user = dbt.tracking.User(None)\n",
    "dbt.flags.INDIRECT_SELECTION = \"eager\"\n",
    "dbt.flags.WRITE_JSON = True\n",
    "dbt.flags.QUIET = True  # silent"
   ]
  },
  {
   "cell_type": "code",
   "execution_count": null,
   "metadata": {},
   "outputs": [],
   "source": [
    "#| exporti\n",
    "\n",
    "# from fal import FalDbt\n",
    "from nbdbt2.fal.dbt.integration.project import FalDbt\n",
    "# import faldbt.lib as fallib\n",
    "import nbdbt2.fal.dbt.integration.lib as fallib\n",
    "import nbdbt2.fal.dbt.integration.project as falproject"
   ]
  },
  {
   "cell_type": "code",
   "execution_count": null,
   "metadata": {},
   "outputs": [],
   "source": [
    "#| exporti\n",
    "\n",
    "import pandas as pd"
   ]
  },
  {
   "cell_type": "code",
   "execution_count": null,
   "metadata": {},
   "outputs": [],
   "source": [
    "#| export\n",
    "nbdbt_config = {\n",
    "    \"profiles_dir\": \"~/.dbt\"\n",
    "    if os.environ.get(\"DBT_PROFILES_DIR\") is None\n",
    "    else os.environ.get(\"DBT_PROFILES_DIR\"),\n",
    "    \"project_dir\": None,\n",
    "    \"notebook\": None,\n",
    "    \"limit_default\": 1000,\n",
    "}"
   ]
  },
  {
   "cell_type": "code",
   "execution_count": null,
   "metadata": {},
   "outputs": [],
   "source": [
    "#| exporti\n",
    "# Add cache\n",
    "import json\n",
    "import hashlib\n",
    "\n",
    "CACHE_DIR = \".nbdbt\"\n",
    "\n",
    "\n",
    "def load_cache(cache_name):\n",
    "\n",
    "    cache_path = Path(nbdbt_config[\"project_dir\"]) / CACHE_DIR / cache_name\n",
    "    if cache_path.exists():\n",
    "        with open(cache_path, \"r\") as f:\n",
    "            cache_contents = f.read()\n",
    "            try:\n",
    "                cache_info = json.loads(cache_contents)\n",
    "            except json.JSONDecodeError as e:\n",
    "                if NBDBT_DEBUG:\n",
    "                    raise json.JSONDecodeError(e.msg, e.doc, e.pos)\n",
    "                else:\n",
    "                    return None\n",
    "            else:\n",
    "                return cache_info\n",
    "\n",
    "    else:\n",
    "        return None\n",
    "\n",
    "\n",
    "def update_cache(dmo):\n",
    "    if dmo._compiled_path is None:\n",
    "        raise ValueError(\"Could not update cache as compiled path is not set\")\n",
    "\n",
    "    cache_name = dmo.file\n",
    "    cache_path = Path(nbdbt_config[\"project_dir\"]) / CACHE_DIR / cache_name\n",
    "    if not cache_path.exists():\n",
    "        cache_dir = cache_path.parent\n",
    "        try:\n",
    "            cache_dir.mkdir(parents=True, exist_ok=True)\n",
    "        except FileExistsError:\n",
    "            raise FileExistsError(\n",
    "                f\"cache parent path exists as a file (delete it first): {cache_dir}\"\n",
    "            )\n",
    "    compiled_path = Path(dmo.project_dir) / dmo._compiled_path\n",
    "    cache_info = {\n",
    "        \"formatted_sql_hash\": hashlib.sha1(dmo._formatted_sql.encode()).hexdigest(),\n",
    "        \"compiled_path\": dmo._compiled_path,\n",
    "        \"compiled_sql_mtime\": compiled_path.stat().st_mtime,\n",
    "    }\n",
    "    with open(cache_path, \"w\") as f:\n",
    "        cache_contents = json.dumps(cache_info)\n",
    "        f.write(cache_contents)\n",
    "\n",
    "\n",
    "def check_cache(dmo, cache):\n",
    "    cache_formatted_sql_hash = cache[\"formatted_sql_hash\"]\n",
    "    formatted_sql_hash = hashlib.sha1(dmo._formatted_sql.encode()).hexdigest()\n",
    "    if cache_formatted_sql_hash != formatted_sql_hash:\n",
    "        return [\"update_sql\"]\n",
    "\n",
    "    compiled_path = Path(dmo.project_dir) / cache[\"compiled_path\"]\n",
    "    if not compiled_path.exists():\n",
    "        return [\"update_model\"]\n",
    "    compiled_path_mtime = compiled_path.stat().st_mtime\n",
    "    cache_compiled_path_mtime = cache[\"compiled_sql_mtime\"]\n",
    "    if compiled_path_mtime != cache_compiled_path_mtime:\n",
    "        return [\"update_model\"]\n",
    "    return []\n",
    "\n",
    "\n",
    "def update_dmo(dmo, cache):\n",
    "    dmo._compiled_path = cache[\"compiled_path\"]"
   ]
  },
  {
   "cell_type": "code",
   "execution_count": null,
   "metadata": {},
   "outputs": [],
   "source": [
    "#| export\n",
    "def clear_cache(project_dir=None):\n",
    "    \"\"\"Removes all existing nbdbt cache entries\"\"\"\n",
    "    project_dir = nbdbt_config[\"project_dir\"] if project_dir is None else project_dir\n",
    "\n",
    "    if project_dir is None:\n",
    "        raise ValueError(\n",
    "            \"Please specify the dbt project dir as a parameter or as a %dbtconfig line magic\"\n",
    "        )\n",
    "    cache_path = Path(project_dir) / CACHE_DIR\n",
    "    if not cache_path.exists():\n",
    "        return\n",
    "    if cache_path.is_file():\n",
    "        cache_path.unlink()\n",
    "        return\n",
    "    shutil.rmtree(cache_path, ignore_errors=True)"
   ]
  },
  {
   "cell_type": "code",
   "execution_count": null,
   "metadata": {},
   "outputs": [],
   "source": [
    "#| export\n",
    "\n",
    "\n",
    "@magic_arguments.magic_arguments()\n",
    "@magic_arguments.argument(\n",
    "    \"-d\",\n",
    "    \"--profile\",\n",
    "    type=str,\n",
    "    default=None,\n",
    "    help=(\"If provided, override the dbt profiles directory (default: '~/.dbt')\"),\n",
    ")\n",
    "@magic_arguments.argument(\n",
    "    \"-p\",\n",
    "    \"--project\",\n",
    "    type=str,\n",
    "    default=None,\n",
    "    help=(\"Set the dbt project directory\"),\n",
    ")\n",
    "@magic_arguments.argument(\n",
    "    \"-n\",\n",
    "    \"--notebook\",\n",
    "    type=str,\n",
    "    default=None,\n",
    "    help=(\"Set the notebook path\"),\n",
    ")\n",
    "@magic_arguments.argument(\n",
    "    \"-l\",\n",
    "    \"--limit\",\n",
    "    type=int,\n",
    "    default=1000,\n",
    "    help=(\"Set the default sql row limit\"),\n",
    ")\n",
    "@register_line_magic(\"dbtconfig\")\n",
    "def config_dbt(line):\n",
    "    if IN_NBDBT_TEST:\n",
    "        return None\n",
    "    try:\n",
    "        from dbt.task.compile import CompileTask\n",
    "    except ImportError:\n",
    "        return \"'dbt-core' not installed. Did you run 'pip install dbt-core'?\"\n",
    "    line_args = magic_arguments.parse_argstring(config_dbt, line)\n",
    "    if line_args.profile is not None:\n",
    "        nbdbt_config[\"profiles_dir\"] = line_args.profile\n",
    "    if line_args.project is not None:\n",
    "        nbdbt_config[\"project_dir\"] = line_args.project\n",
    "    if line_args.notebook is not None:\n",
    "        nbdbt_config[\"notebook\"] = line_args.notebook\n",
    "\n",
    "    nbdbt_config[\"limit\"] = line_args.limit"
   ]
  },
  {
   "cell_type": "code",
   "execution_count": null,
   "metadata": {},
   "outputs": [],
   "source": [
    "#| export\n",
    "\n",
    "\n",
    "class DbtMagicObject:\n",
    "    def __init__(\n",
    "        self,\n",
    "        raw_sql: str,  # sql string\n",
    "        file: str,  # path to sql file (relative to dbt project dir)\n",
    "        limit: int,  # limit row default\n",
    "        project_dir: Optional[Union[str, Path]] = None,  # dbt project dir\n",
    "        notebook_name: Optional[str] = None,  # name of notebook\n",
    "        profile_dir: Optional[Union[str, Path]] = None,  # dbt profiles dir\n",
    "    ):\n",
    "        \"\"\"Create a holder of dbt cell magic parameters\"\"\"\n",
    "        self.raw_sql = raw_sql\n",
    "        self.file = file\n",
    "        self.limit = nbdbt_config[\"limit\"] if limit == -1 else limit\n",
    "        project_dir = (\n",
    "            nbdbt_config[\"project_dir\"] if project_dir is None else project_dir\n",
    "        )\n",
    "        if project_dir is None:\n",
    "            raise ValueError(\"Missing value for  --project\")\n",
    "        self.project_dir = (\n",
    "            Path(project_dir) if type(project_dir) == str else project_dir\n",
    "        )\n",
    "\n",
    "        notebook_name = (\n",
    "            nbdbt_config[\"notebook\"] if notebook_name is None else notebook_name\n",
    "        )\n",
    "        self.notebook_name = notebook_name\n",
    "\n",
    "        profile_dir = (\n",
    "            nbdbt_config[\"profiles_dir\"] if profile_dir is None else profile_dir\n",
    "        )\n",
    "        self.profile_dir = (\n",
    "            Path(profile_dir) if type(profile_dir) == str else profile_dir\n",
    "        )\n",
    "\n",
    "        # dynamic runtime attributes\n",
    "        self._compiled_path: Optional[str] = None\n",
    "        self._df_result: Optional[pd.DataFrame] = None\n",
    "        "
   ]
  },
  {
   "cell_type": "code",
   "execution_count": null,
   "metadata": {},
   "outputs": [],
   "source": [
    "#| export\n",
    "@patch(as_prop=True)\n",
    "def _formatted_sql(self: DbtMagicObject) -> str:\n",
    "    \"\"\"Add auto generated notice for nbdbt generated sql\"\"\"\n",
    "    if not self.notebook_name:\n",
    "        contents = \"-- AUTOGENERATED! DO NOT EDIT!\\n\" + self.raw_sql\n",
    "    else:\n",
    "        contents = (\n",
    "            f\"-- AUTOGENERATED! DO NOT EDIT! File to edit: {self.notebook_name} (unless otherwise specified).\\n\"\n",
    "            + self.raw_sql\n",
    "        )\n",
    "    return contents"
   ]
  },
  {
   "cell_type": "code",
   "execution_count": null,
   "metadata": {},
   "outputs": [],
   "source": [
    "#| export\n",
    "@patch(as_prop=True)\n",
    "def _compiled_sql(self: DbtMagicObject) -> str:\n",
    "    \"\"\"Add auto generated notice for nbdbt generated sql\"\"\"\n",
    "    if self._compiled_path is None:\n",
    "        return None\n",
    "    compiled_path = Path(self.project_dir) / self._compiled_path\n",
    "    if not compiled_path.exists():\n",
    "        return None\n",
    "    with open(compiled_path, \"r\") as f:\n",
    "        contents = f.read()\n",
    "        return contents\n",
    "    return None"
   ]
  },
  {
   "cell_type": "code",
   "execution_count": null,
   "metadata": {},
   "outputs": [],
   "source": [
    "#| export\n",
    "@patch\n",
    "def _write_sql(self: DbtMagicObject) -> None:\n",
    "    \"\"\"Write sql to file\"\"\"\n",
    "    path = self.project_dir / self.file\n",
    "    parent = path.parent\n",
    "    try:\n",
    "        parent.mkdir(parents=True, exist_ok=True)\n",
    "    except FileExistsError:\n",
    "        raise FileExistsError(\n",
    "            f\"Sql file write failure: Existing file in parent path ${parent}\"\n",
    "        )\n",
    "\n",
    "    with open(path, \"w\") as f:\n",
    "        f.write(self._formatted_sql)"
   ]
  },
  {
   "cell_type": "code",
   "execution_count": null,
   "metadata": {},
   "outputs": [],
   "source": [
    "#| export\n",
    "@patch\n",
    "def _compile_model(self: DbtMagicObject) -> None:\n",
    "    \"\"\"Compile model and store compile result\"\"\"\n",
    "    faldbt = FalDbt(\n",
    "        profiles_dir=str(self.profile_dir), \n",
    "        project_dir=str(self.project_dir),\n",
    "        select=[self.file]\n",
    "    )\n",
    "    profile_target = faldbt._profile_target\n",
    "\n",
    "    task = faldbt._compile_task\n",
    "    compile_result = task.run()\n",
    "    self._compiled_path = compile_result.results[0].node.compiled_path"
   ]
  },
  {
   "cell_type": "code",
   "execution_count": null,
   "metadata": {},
   "outputs": [],
   "source": [
    "#| export\n",
    "@patch\n",
    "def _exec_faldbt_ref(self: DbtMagicObject, limit) -> None:\n",
    "    \"\"\"Execute sql and return df\"\"\"\n",
    "    if self._compiled_sql is None:\n",
    "        raise ValueError(\"Model compilation step has not been executed\")\n",
    "\n",
    "    faldbt = FalDbt(\n",
    "        profiles_dir=str(self.profile_dir), project_dir=str(self.project_dir)\n",
    "    )\n",
    "    profile_target = faldbt._profile_target\n",
    "    # adapter_response, result\n",
    "    limit = self.limit if limit == -1 else limit\n",
    "    if limit is None:\n",
    "        exec_sql = self._compiled_sql\n",
    "    else:\n",
    "        ctx_name = \"xxx_yyy_zzz\"\n",
    "        exec_sql = f\"\"\"with {ctx_name} as\n",
    "        (\n",
    "          {self._compiled_sql}\n",
    "        )\n",
    "        select * from {ctx_name} \n",
    "        limit {limit}\n",
    "        \"\"\"\n",
    "\n",
    "    result = fallib.execute_sql(\n",
    "        str(self.project_dir), str(self.profile_dir), profile_target, exec_sql\n",
    "    )\n",
    "    df_result = result\n",
    "    self._df_result = df_result"
   ]
  },
  {
   "cell_type": "code",
   "execution_count": null,
   "metadata": {},
   "outputs": [],
   "source": [
    "#| export\n",
    "@patch\n",
    "def ref(self: DbtMagicObject, limit=-1) -> pd.DataFrame:\n",
    "    self._exec_faldbt_ref(limit)\n",
    "    return self._df_result"
   ]
  },
  {
   "cell_type": "code",
   "execution_count": null,
   "metadata": {},
   "outputs": [],
   "source": [
    "#| exporti\n",
    "from nbdbt2.fal.dbt.integration.project import _DbtTestableNode"
   ]
  },
  {
   "cell_type": "code",
   "execution_count": null,
   "metadata": {},
   "outputs": [],
   "source": [
    "#| export\n",
    "\n",
    "@patch(as_prop=True)\n",
    "def schema(self: _DbtTestableNode) -> pd.DataFrame:\n",
    "    profiles_dir = nbdbt_config[\"profiles_dir\"]\n",
    "    project_dir = nbdbt_config[\"project_dir\"]\n",
    "    faldbt = FalDbt(profiles_dir=profiles_dir, project_dir=project_dir)\n",
    "    profile_target = faldbt._profile_target\n",
    "\n",
    "    node = self.node\n",
    "\n",
    "    adapter = fallib._get_adapter(\n",
    "        faldbt.project_dir, faldbt.profiles_dir, profile_target\n",
    "    )\n",
    "\n",
    "    # adapter.type() == 'bigquery'\n",
    "    # if adapter.type() != \"bigquery\":\n",
    "    #     raise NotImplementError(\"No support yet for any other adapter except BigQuery\")\n",
    "    #     return None\n",
    "\n",
    "    # relation = fallib._get_target_relation(\n",
    "    #     node,\n",
    "    #     faldbt.project_dir,\n",
    "    #     faldbt.profiles_dir,\n",
    "    #     profile_target=faldbt._profile_target,\n",
    "    # )\n",
    "    relation = fallib._get_target_relation(adapter, node)\n",
    "\n",
    "    info_schema = relation.information_schema()\n",
    "\n",
    "    column_schema = info_schema.from_relation(relation, \"COLUMNS\")\n",
    "\n",
    "    column_table = column_schema.render()\n",
    "\n",
    "    table_name = relation.table\n",
    "\n",
    "    fetch_schema_sql = f\"\"\"\n",
    "    with schema_columns as\n",
    "    ( select *\n",
    "    from {column_table}\n",
    "    where table_name = '{table_name}'\n",
    "    )\n",
    "    select * \n",
    "    from schema_columns\n",
    "    \"\"\"\n",
    "\n",
    "    result = fallib.execute_sql(\n",
    "        project_dir, profiles_dir, faldbt._profile_target, fetch_schema_sql\n",
    "    )\n",
    "    return result"
   ]
  },
  {
   "cell_type": "code",
   "execution_count": null,
   "metadata": {},
   "outputs": [],
   "source": [
    "#| export\n",
    "@magic_arguments.magic_arguments()\n",
    "@magic_arguments.argument(\n",
    "    \"-a\",\n",
    "    \"--assign\",\n",
    "    type=str,\n",
    "    default=None,\n",
    "    help=(\"If provided, save the output to this variable instead of displaying it.\"),\n",
    ")\n",
    "@magic_arguments.argument(\n",
    "    \"-p\",\n",
    "    \"--project\",\n",
    "    type=str,\n",
    "    default=None,\n",
    "    help=(\"dbt project directory\"),\n",
    ")\n",
    "@magic_arguments.argument(\n",
    "    \"-n\",\n",
    "    \"--notebook\",\n",
    "    type=str,\n",
    "    default=None,\n",
    "    help=(\"notebook source file\"),\n",
    ")\n",
    "@magic_arguments.argument(\n",
    "    \"-l\",\n",
    "    \"--limit\",\n",
    "    type=int,\n",
    "    default=-1,\n",
    "    help=(\"sql limit default\"),\n",
    ")\n",
    "@magic_arguments.argument(\n",
    "    \"file\",\n",
    "    type=str,\n",
    "    help=(\"file path to write to\"),\n",
    ")\n",
    "@register_cell_magic(\"dbt\")\n",
    "def write_dbt(line, cell):\n",
    "    if IN_NBDBT_TEST:\n",
    "        return None\n",
    "    try:\n",
    "        from dbt.task.compile import CompileTask\n",
    "    except ImportError:\n",
    "        return \"'dbt-core' not installed. Did you run 'pip install dbt-core'?\"\n",
    "    line_args = magic_arguments.parse_argstring(write_dbt, line)\n",
    "    dmo = DbtMagicObject(\n",
    "        cell, line_args.file, line_args.limit, line_args.project, line_args.notebook\n",
    "    )\n",
    "    cache = load_cache(line_args.file)\n",
    "    if cache is None:\n",
    "        dmo._write_sql()\n",
    "        dmo._compile_model()\n",
    "        update_cache(dmo)\n",
    "    else:\n",
    "        check_results = check_cache(dmo, cache)\n",
    "        if \"update_sql\" in check_results:\n",
    "            dmo._write_sql()\n",
    "            dmo._compile_model()\n",
    "        elif \"update_model\" in check_results:\n",
    "            dmo._compile_model()\n",
    "        if len(check_results) > 0:\n",
    "            update_cache(dmo)\n",
    "        else:\n",
    "            update_dmo(dmo, cache)\n",
    "\n",
    "    if line_args.assign:\n",
    "        IPython.get_ipython().push({line_args.assign: dmo})\n",
    "        return None\n",
    "    results = dmo.ref()\n",
    "    return results"
   ]
  },
  {
   "cell_type": "code",
   "execution_count": null,
   "metadata": {},
   "outputs": [],
   "source": [
    "#| include: false\n",
    "test_project = \"test_dbt\"\n",
    "test_project_dir = f\"../{test_project}\"\n",
    "test_model1 = \"analyses/sample1.sql\"\n",
    "test_model2 = \"analyses/sample2.sql\""
   ]
  },
  {
   "cell_type": "code",
   "execution_count": null,
   "metadata": {},
   "outputs": [],
   "source": [
    "#| include: false\n",
    "!rm -f {test_project_dir}/{test_model1}\n",
    "!rm -f {test_project_dir}/target/compiled/{test_project}/{test_model1}\n",
    "!rm -rf {test_project_dir}/{CACHE_DIR}"
   ]
  },
  {
   "cell_type": "code",
   "execution_count": null,
   "metadata": {},
   "outputs": [],
   "source": [
    "%dbtconfig -d ../test_profiles -p ../test_dbt -n nbs/00_dbt_cellmagic.ipynb"
   ]
  },
  {
   "cell_type": "code",
   "execution_count": null,
   "metadata": {},
   "outputs": [
    {
     "name": "stdout",
     "output_type": "stream",
     "text": [
      "13:10:01 [fal]: [WARNING]: Could not read dbt run_results artifact\n",
      "\u001b[0m13:10:01  Registered adapter: duckdb=1.7.0\n",
      "\u001b[0m13:10:01  Running with dbt=1.7.4\n",
      "\u001b[0m13:10:01  Registered adapter: duckdb=1.7.0\n",
      "\u001b[0m13:10:01  Performance info: /home/butch2/play/experiments/nbtools/nbdbt2/test_dbt/target/perf_info.json\n",
      "\u001b[0m13:10:02  Found 4 models, 4 analyses, 4 tests, 1 source, 0 exposures, 0 metrics, 391 macros, 0 groups, 0 semantic models\n",
      "\u001b[0m13:10:02  The selection criterion 'analyses/sample1.sql' does not match any nodes\n",
      "13:10:02 [fal]: [\u001b[33mWARNING\u001b[0m]: Could not read dbt sources artifact: Runtime Error\n",
      "  Could not read FreshnessExecutionResultArtifact at \"target/sources.json\" as JSON: [Errno 2] No such file or directory: 'target/sources.json'\n",
      "\u001b[0m13:10:02  Found 4 models, 4 analyses, 4 tests, 1 source, 0 exposures, 0 metrics, 391 macros, 0 groups, 0 semantic models\n",
      "\u001b[0m13:10:02  \n",
      "\u001b[0m13:10:02  Concurrency: 1 threads (target='dev')\n",
      "\u001b[0m13:10:02  \n",
      "\u001b[0m13:10:02  Compiled node 'sample1' is:\n",
      "-- AUTOGENERATED! DO NOT EDIT! File to edit: nbs/00_dbt_cellmagic.ipynb (unless otherwise specified).\n",
      "\n",
      "select *\n",
      "from \"dev\".\"main\".\"my_first_dbt_model\"\n",
      "where id is not null\n",
      "13:10:02 [fal]: [WARNING]: Could not read dbt run_results artifact\n",
      "\u001b[0m13:10:02  Registered adapter: duckdb=1.7.0\n",
      "\u001b[0m13:10:02  Running with dbt=1.7.4\n",
      "\u001b[0m13:10:02  Registered adapter: duckdb=1.7.0\n",
      "\u001b[0m13:10:02  Performance info: /home/butch2/play/experiments/nbtools/nbdbt2/test_dbt/target/perf_info.json\n",
      "\u001b[0m13:10:03  Found 4 models, 4 analyses, 4 tests, 1 source, 0 exposures, 0 metrics, 391 macros, 0 groups, 0 semantic models\n",
      "13:10:03 [fal]: [\u001b[33mWARNING\u001b[0m]: Could not read dbt sources artifact: Runtime Error\n",
      "  Could not read FreshnessExecutionResultArtifact at \"target/sources.json\" as JSON: [Errno 2] No such file or directory: 'target/sources.json'\n"
     ]
    },
    {
     "data": {
      "text/html": [
       "<div>\n",
       "<style scoped>\n",
       "    .dataframe tbody tr th:only-of-type {\n",
       "        vertical-align: middle;\n",
       "    }\n",
       "\n",
       "    .dataframe tbody tr th {\n",
       "        vertical-align: top;\n",
       "    }\n",
       "\n",
       "    .dataframe thead th {\n",
       "        text-align: right;\n",
       "    }\n",
       "</style>\n",
       "<table border=\"1\" class=\"dataframe\">\n",
       "  <thead>\n",
       "    <tr style=\"text-align: right;\">\n",
       "      <th></th>\n",
       "      <th>id</th>\n",
       "    </tr>\n",
       "  </thead>\n",
       "  <tbody>\n",
       "    <tr>\n",
       "      <th>0</th>\n",
       "      <td>1</td>\n",
       "    </tr>\n",
       "  </tbody>\n",
       "</table>\n",
       "</div>"
      ],
      "text/plain": [
       "   id\n",
       "0   1"
      ]
     },
     "execution_count": null,
     "metadata": {},
     "output_type": "execute_result"
    }
   ],
   "source": [
    "%%dbt analyses/sample1.sql\n",
    "\n",
    "select *\n",
    "from {{ ref('my_first_dbt_model') }}\n",
    "where id is not null"
   ]
  },
  {
   "cell_type": "code",
   "execution_count": null,
   "metadata": {},
   "outputs": [],
   "source": [
    "#| include: false\n",
    "# skip_test\n",
    "assert _.equals(pd.DataFrame(data={\"id\": [1]}))"
   ]
  },
  {
   "cell_type": "code",
   "execution_count": null,
   "metadata": {},
   "outputs": [],
   "source": [
    "#| include: false\n",
    "# skip_test\n",
    "# check that analyses file was created\n",
    "assert (Path(test_project_dir) / test_model1).exists()"
   ]
  },
  {
   "cell_type": "code",
   "execution_count": null,
   "metadata": {},
   "outputs": [],
   "source": [
    "#| include: false\n",
    "# skip_test\n",
    "# check that compiled file was created\n",
    "assert (\n",
    "    Path(test_project_dir) / \"target\" / \"compiled\" / test_project / test_model1\n",
    ").exists()"
   ]
  },
  {
   "cell_type": "code",
   "execution_count": null,
   "metadata": {},
   "outputs": [],
   "source": [
    "#| include: false\n",
    "# skip_test\n",
    "# check that cache file was created\n",
    "assert (Path(test_project_dir) / CACHE_DIR / test_model1).exists()"
   ]
  },
  {
   "cell_type": "code",
   "execution_count": null,
   "metadata": {},
   "outputs": [],
   "source": [
    "#| include: false\n",
    "!rm -f {test_project_dir}/{test_model2}\n",
    "!rm -f {test_project_dir}/target/compiled/{test_project}/{test_model2}"
   ]
  },
  {
   "cell_type": "code",
   "execution_count": null,
   "metadata": {},
   "outputs": [],
   "source": [
    "if \"sample2\" in globals():\n",
    "    del sample2"
   ]
  },
  {
   "cell_type": "code",
   "execution_count": null,
   "metadata": {},
   "outputs": [
    {
     "name": "stdout",
     "output_type": "stream",
     "text": [
      "13:10:04 [fal]: [WARNING]: Could not read dbt run_results artifact\n",
      "\u001b[0m13:10:04  Registered adapter: duckdb=1.7.0\n",
      "\u001b[0m13:10:04  Running with dbt=1.7.4\n",
      "\u001b[0m13:10:04  Registered adapter: duckdb=1.7.0\n",
      "\u001b[0m13:10:04  Performance info: /home/butch2/play/experiments/nbtools/nbdbt2/test_dbt/target/perf_info.json\n",
      "\u001b[0m13:10:05  Found 4 models, 4 analyses, 4 tests, 1 source, 0 exposures, 0 metrics, 391 macros, 0 groups, 0 semantic models\n",
      "13:10:05 [fal]: [\u001b[33mWARNING\u001b[0m]: Could not read dbt sources artifact: Runtime Error\n",
      "  Could not read FreshnessExecutionResultArtifact at \"target/sources.json\" as JSON: [Errno 2] No such file or directory: 'target/sources.json'\n",
      "\u001b[0m13:10:05  Found 4 models, 4 analyses, 4 tests, 1 source, 0 exposures, 0 metrics, 391 macros, 0 groups, 0 semantic models\n",
      "\u001b[0m13:10:05  \n",
      "\u001b[0m13:10:05  Concurrency: 1 threads (target='dev')\n",
      "\u001b[0m13:10:05  \n",
      "\u001b[0m13:10:05  Compiled node 'sample2' is:\n",
      "-- AUTOGENERATED! DO NOT EDIT! File to edit: nbs/00_dbt_cellmagic.ipynb (unless otherwise specified).\n",
      "\n",
      "select *\n",
      "from \"dev\".\"main\".\"my_second_dbt_model\"\n",
      "where id is not null\n"
     ]
    }
   ],
   "source": [
    "%%dbt -a sample2 analyses/sample2.sql \n",
    "\n",
    "select *\n",
    "from {{ ref('my_second_dbt_model') }}\n",
    "where id is not null"
   ]
  },
  {
   "cell_type": "code",
   "execution_count": null,
   "metadata": {},
   "outputs": [],
   "source": [
    "#| include: false\n",
    "# skip_test\n",
    "# check that analyses file was created\n",
    "assert (Path(test_project_dir) / test_model2).exists()"
   ]
  },
  {
   "cell_type": "code",
   "execution_count": null,
   "metadata": {},
   "outputs": [
    {
     "data": {
      "text/plain": [
       "True"
      ]
     },
     "execution_count": null,
     "metadata": {},
     "output_type": "execute_result"
    }
   ],
   "source": [
    "#| include: false\n",
    "# check that compiled file was created\n",
    "(Path(test_project_dir) / \"target\" / \"compiled\" / test_project / test_model2).exists()"
   ]
  },
  {
   "cell_type": "code",
   "execution_count": null,
   "metadata": {},
   "outputs": [],
   "source": [
    "#| include: false\n",
    "# skip_test\n",
    "# check that compiled file was created\n",
    "assert (Path(test_project_dir) / CACHE_DIR / test_model2).exists()"
   ]
  },
  {
   "cell_type": "code",
   "execution_count": null,
   "metadata": {},
   "outputs": [],
   "source": [
    "#| include: false\n",
    "# skip_test\n",
    "assert \"sample2\" in globals()"
   ]
  },
  {
   "cell_type": "code",
   "execution_count": null,
   "metadata": {},
   "outputs": [
    {
     "name": "stdout",
     "output_type": "stream",
     "text": [
      "13:10:05 [fal]: [WARNING]: Could not read dbt run_results artifact\n",
      "\u001b[0m13:10:05  Registered adapter: duckdb=1.7.0\n",
      "\u001b[0m13:10:05  Running with dbt=1.7.4\n",
      "\u001b[0m13:10:05  Registered adapter: duckdb=1.7.0\n",
      "\u001b[0m13:10:05  Performance info: /home/butch2/play/experiments/nbtools/nbdbt2/test_dbt/target/perf_info.json\n",
      "\u001b[0m13:10:07  Found 4 models, 4 analyses, 4 tests, 1 source, 0 exposures, 0 metrics, 391 macros, 0 groups, 0 semantic models\n",
      "13:10:07 [fal]: [\u001b[33mWARNING\u001b[0m]: Could not read dbt sources artifact: Runtime Error\n",
      "  Could not read FreshnessExecutionResultArtifact at \"target/sources.json\" as JSON: [Errno 2] No such file or directory: 'target/sources.json'\n"
     ]
    }
   ],
   "source": [
    "# skip_test\n",
    "results = sample2.ref()"
   ]
  },
  {
   "cell_type": "code",
   "execution_count": null,
   "metadata": {},
   "outputs": [
    {
     "data": {
      "text/html": [
       "<div>\n",
       "<style scoped>\n",
       "    .dataframe tbody tr th:only-of-type {\n",
       "        vertical-align: middle;\n",
       "    }\n",
       "\n",
       "    .dataframe tbody tr th {\n",
       "        vertical-align: top;\n",
       "    }\n",
       "\n",
       "    .dataframe thead th {\n",
       "        text-align: right;\n",
       "    }\n",
       "</style>\n",
       "<table border=\"1\" class=\"dataframe\">\n",
       "  <thead>\n",
       "    <tr style=\"text-align: right;\">\n",
       "      <th></th>\n",
       "      <th>id</th>\n",
       "    </tr>\n",
       "  </thead>\n",
       "  <tbody>\n",
       "    <tr>\n",
       "      <th>0</th>\n",
       "      <td>1</td>\n",
       "    </tr>\n",
       "  </tbody>\n",
       "</table>\n",
       "</div>"
      ],
      "text/plain": [
       "   id\n",
       "0   1"
      ]
     },
     "execution_count": null,
     "metadata": {},
     "output_type": "execute_result"
    }
   ],
   "source": [
    "# skip_test\n",
    "results"
   ]
  },
  {
   "cell_type": "code",
   "execution_count": null,
   "metadata": {},
   "outputs": [],
   "source": [
    "#| include: false\n",
    "# skip_test\n",
    "assert results.equals(pd.DataFrame(data={\"id\": [1]}))"
   ]
  },
  {
   "cell_type": "code",
   "execution_count": null,
   "metadata": {},
   "outputs": [],
   "source": [
    "#| include: false\n",
    "# skip_test\n",
    "cache_dir = Path(nbdbt_config[\"project_dir\"]) / CACHE_DIR"
   ]
  },
  {
   "cell_type": "code",
   "execution_count": null,
   "metadata": {},
   "outputs": [],
   "source": [
    "#| include: false\n",
    "# skip_test\n",
    "assert cache_dir.exists()"
   ]
  },
  {
   "cell_type": "code",
   "execution_count": null,
   "metadata": {},
   "outputs": [
    {
     "name": "stdout",
     "output_type": "stream",
     "text": [
      "13:10:07 [fal]: [WARNING]: Could not read dbt run_results artifact\n",
      "\u001b[0m13:10:07  Registered adapter: duckdb=1.7.0\n",
      "\u001b[0m13:10:07  Running with dbt=1.7.4\n",
      "\u001b[0m13:10:07  Registered adapter: duckdb=1.7.0\n",
      "\u001b[0m13:10:07  Performance info: /home/butch2/play/experiments/nbtools/nbdbt2/test_dbt/target/perf_info.json\n",
      "\u001b[0m13:10:08  Found 4 models, 4 analyses, 4 tests, 1 source, 0 exposures, 0 metrics, 391 macros, 0 groups, 0 semantic models\n",
      "13:10:08 [fal]: [\u001b[33mWARNING\u001b[0m]: Could not read dbt sources artifact: Runtime Error\n",
      "  Could not read FreshnessExecutionResultArtifact at \"target/sources.json\" as JSON: [Errno 2] No such file or directory: 'target/sources.json'\n",
      "\u001b[0m13:10:08  Found 4 models, 4 analyses, 4 tests, 1 source, 0 exposures, 0 metrics, 391 macros, 0 groups, 0 semantic models\n",
      "\u001b[0m13:10:08  \n",
      "\u001b[0m13:10:08  Concurrency: 1 threads (target='dev')\n",
      "\u001b[0m13:10:08  \n",
      "\u001b[0m13:10:08  Compiled node 'my_third_model' is:\n",
      "-- AUTOGENERATED! DO NOT EDIT! File to edit: notebooks/index.ipynb (unless otherwise specified).\n",
      "select *\n",
      "from \"dev\".\"main\".\"my_second_dbt_model\"\n"
     ]
    }
   ],
   "source": [
    "%%dbt -a my_third_model -n notebooks/index.ipynb models/my_third_model.sql\n",
    "select *\n",
    "from {{ ref('my_second_dbt_model') }}"
   ]
  },
  {
   "cell_type": "code",
   "execution_count": null,
   "metadata": {},
   "outputs": [
    {
     "data": {
      "text/plain": [
       "<__main__.DbtMagicObject>"
      ]
     },
     "execution_count": null,
     "metadata": {},
     "output_type": "execute_result"
    }
   ],
   "source": [
    "# skip_test\n",
    "my_third_model"
   ]
  },
  {
   "cell_type": "code",
   "execution_count": null,
   "metadata": {},
   "outputs": [],
   "source": [
    "#| include: false\n",
    "# skip_test\n",
    "from pathlib import Path\n",
    "\n",
    "assert Path(\"../test_dbt/models/my_third_model.sql\").exists()\n",
    "assert Path(\n",
    "    \"../test_dbt/target/compiled/test_dbt/models/my_third_model.sql\"\n",
    ").exists()"
   ]
  },
  {
   "cell_type": "markdown",
   "metadata": {},
   "source": [
    "The `ref` method on `DbtMagicObject`  allows us to run the query and save the results into a dataframe."
   ]
  },
  {
   "cell_type": "code",
   "execution_count": null,
   "metadata": {},
   "outputs": [
    {
     "name": "stdout",
     "output_type": "stream",
     "text": [
      "13:10:08 [fal]: [WARNING]: Could not read dbt run_results artifact\n",
      "\u001b[0m13:10:08  Registered adapter: duckdb=1.7.0\n",
      "\u001b[0m13:10:08  Running with dbt=1.7.4\n",
      "\u001b[0m13:10:08  Registered adapter: duckdb=1.7.0\n",
      "\u001b[0m13:10:08  Performance info: /home/butch2/play/experiments/nbtools/nbdbt2/test_dbt/target/perf_info.json\n",
      "\u001b[0m13:10:10  Found 4 models, 4 analyses, 4 tests, 1 source, 0 exposures, 0 metrics, 391 macros, 0 groups, 0 semantic models\n",
      "13:10:10 [fal]: [\u001b[33mWARNING\u001b[0m]: Could not read dbt sources artifact: Runtime Error\n",
      "  Could not read FreshnessExecutionResultArtifact at \"target/sources.json\" as JSON: [Errno 2] No such file or directory: 'target/sources.json'\n"
     ]
    },
    {
     "data": {
      "text/html": [
       "<div>\n",
       "<style scoped>\n",
       "    .dataframe tbody tr th:only-of-type {\n",
       "        vertical-align: middle;\n",
       "    }\n",
       "\n",
       "    .dataframe tbody tr th {\n",
       "        vertical-align: top;\n",
       "    }\n",
       "\n",
       "    .dataframe thead th {\n",
       "        text-align: right;\n",
       "    }\n",
       "</style>\n",
       "<table border=\"1\" class=\"dataframe\">\n",
       "  <thead>\n",
       "    <tr style=\"text-align: right;\">\n",
       "      <th></th>\n",
       "      <th>id</th>\n",
       "    </tr>\n",
       "  </thead>\n",
       "  <tbody>\n",
       "    <tr>\n",
       "      <th>0</th>\n",
       "      <td>1</td>\n",
       "    </tr>\n",
       "  </tbody>\n",
       "</table>\n",
       "</div>"
      ],
      "text/plain": [
       "   id\n",
       "0   1"
      ]
     },
     "execution_count": null,
     "metadata": {},
     "output_type": "execute_result"
    }
   ],
   "source": [
    "# skip_test\n",
    "results = my_third_model.ref()\n",
    "results  # dataframe"
   ]
  },
  {
   "cell_type": "code",
   "execution_count": null,
   "metadata": {},
   "outputs": [
    {
     "name": "stdout",
     "output_type": "stream",
     "text": [
      "13:10:10 [fal]: [WARNING]: Could not read dbt run_results artifact\n",
      "\u001b[0m13:10:10  Registered adapter: duckdb=1.7.0\n",
      "\u001b[0m13:10:10  Running with dbt=1.7.4\n",
      "\u001b[0m13:10:10  Registered adapter: duckdb=1.7.0\n",
      "\u001b[0m13:10:10  Performance info: /home/butch2/play/experiments/nbtools/nbdbt2/test_dbt/target/perf_info.json\n",
      "\u001b[0m13:10:11  Found 4 models, 4 analyses, 4 tests, 1 source, 0 exposures, 0 metrics, 391 macros, 0 groups, 0 semantic models\n",
      "13:10:11 [fal]: [\u001b[33mWARNING\u001b[0m]: Could not read dbt sources artifact: Runtime Error\n",
      "  Could not read FreshnessExecutionResultArtifact at \"target/sources.json\" as JSON: [Errno 2] No such file or directory: 'target/sources.json'\n"
     ]
    }
   ],
   "source": [
    "# skip_test\n",
    "faldbt = FalDbt(nbdbt_config[\"project_dir\"], nbdbt_config[\"profiles_dir\"])\n",
    "model0 = faldbt.list_models()[0]\n",
    "source0 = faldbt.list_sources()[0]"
   ]
  },
  {
   "cell_type": "code",
   "execution_count": null,
   "metadata": {},
   "outputs": [
    {
     "name": "stdout",
     "output_type": "stream",
     "text": [
      "13:10:11 [fal]: [WARNING]: Could not read dbt run_results artifact\n",
      "\u001b[0m13:10:11  Registered adapter: duckdb=1.7.0\n",
      "\u001b[0m13:10:11  Running with dbt=1.7.4\n",
      "\u001b[0m13:10:11  Registered adapter: duckdb=1.7.0\n",
      "\u001b[0m13:10:11  Performance info: /home/butch2/play/experiments/nbtools/nbdbt2/test_dbt/target/perf_info.json\n",
      "\u001b[0m13:10:12  Found 4 models, 4 analyses, 4 tests, 1 source, 0 exposures, 0 metrics, 391 macros, 0 groups, 0 semantic models\n",
      "13:10:12 [fal]: [\u001b[33mWARNING\u001b[0m]: Could not read dbt sources artifact: Runtime Error\n",
      "  Could not read FreshnessExecutionResultArtifact at \"target/sources.json\" as JSON: [Errno 2] No such file or directory: 'target/sources.json'\n",
      "\u001b[0m13:10:12  Unable to do partial parsing because config vars, config profile, or config target have changed\n"
     ]
    },
    {
     "data": {
      "text/html": [
       "<div>\n",
       "<style scoped>\n",
       "    .dataframe tbody tr th:only-of-type {\n",
       "        vertical-align: middle;\n",
       "    }\n",
       "\n",
       "    .dataframe tbody tr th {\n",
       "        vertical-align: top;\n",
       "    }\n",
       "\n",
       "    .dataframe thead th {\n",
       "        text-align: right;\n",
       "    }\n",
       "</style>\n",
       "<table border=\"1\" class=\"dataframe\">\n",
       "  <thead>\n",
       "    <tr style=\"text-align: right;\">\n",
       "      <th></th>\n",
       "      <th>table_catalog</th>\n",
       "      <th>table_schema</th>\n",
       "      <th>table_name</th>\n",
       "      <th>column_name</th>\n",
       "      <th>ordinal_position</th>\n",
       "      <th>column_default</th>\n",
       "      <th>is_nullable</th>\n",
       "      <th>data_type</th>\n",
       "      <th>character_maximum_length</th>\n",
       "      <th>character_octet_length</th>\n",
       "      <th>...</th>\n",
       "      <th>is_identity</th>\n",
       "      <th>identity_generation</th>\n",
       "      <th>identity_start</th>\n",
       "      <th>identity_increment</th>\n",
       "      <th>identity_maximum</th>\n",
       "      <th>identity_minimum</th>\n",
       "      <th>identity_cycle</th>\n",
       "      <th>is_generated</th>\n",
       "      <th>generation_expression</th>\n",
       "      <th>is_updatable</th>\n",
       "    </tr>\n",
       "  </thead>\n",
       "  <tbody>\n",
       "    <tr>\n",
       "      <th>0</th>\n",
       "      <td>dev</td>\n",
       "      <td>main</td>\n",
       "      <td>my_third_model</td>\n",
       "      <td>id</td>\n",
       "      <td>1</td>\n",
       "      <td>None</td>\n",
       "      <td>YES</td>\n",
       "      <td>INTEGER</td>\n",
       "      <td>None</td>\n",
       "      <td>None</td>\n",
       "      <td>...</td>\n",
       "      <td>None</td>\n",
       "      <td>None</td>\n",
       "      <td>None</td>\n",
       "      <td>None</td>\n",
       "      <td>None</td>\n",
       "      <td>None</td>\n",
       "      <td>None</td>\n",
       "      <td>None</td>\n",
       "      <td>None</td>\n",
       "      <td>None</td>\n",
       "    </tr>\n",
       "  </tbody>\n",
       "</table>\n",
       "<p>1 rows × 44 columns</p>\n",
       "</div>"
      ],
      "text/plain": [
       "  table_catalog table_schema      table_name column_name  ordinal_position  \\\n",
       "0           dev         main  my_third_model          id                 1   \n",
       "\n",
       "  column_default is_nullable data_type character_maximum_length  \\\n",
       "0           None         YES   INTEGER                     None   \n",
       "\n",
       "  character_octet_length  ...  is_identity  identity_generation  \\\n",
       "0                   None  ...         None                 None   \n",
       "\n",
       "   identity_start identity_increment identity_maximum identity_minimum  \\\n",
       "0            None               None             None             None   \n",
       "\n",
       "  identity_cycle is_generated generation_expression is_updatable  \n",
       "0           None         None                  None         None  \n",
       "\n",
       "[1 rows x 44 columns]"
      ]
     },
     "execution_count": null,
     "metadata": {},
     "output_type": "execute_result"
    }
   ],
   "source": [
    "# skip_test\n",
    "model0.schema"
   ]
  },
  {
   "cell_type": "code",
   "execution_count": null,
   "metadata": {},
   "outputs": [
    {
     "name": "stdout",
     "output_type": "stream",
     "text": [
      "13:10:14 [fal]: [WARNING]: Could not read dbt run_results artifact\n",
      "\u001b[0m13:10:14  Registered adapter: duckdb=1.7.0\n",
      "\u001b[0m13:10:14  Running with dbt=1.7.4\n",
      "\u001b[0m13:10:14  Registered adapter: duckdb=1.7.0\n",
      "\u001b[0m13:10:14  Performance info: /home/butch2/play/experiments/nbtools/nbdbt2/test_dbt/target/perf_info.json\n",
      "\u001b[0m13:10:15  Found 4 models, 4 analyses, 4 tests, 1 source, 0 exposures, 0 metrics, 391 macros, 0 groups, 0 semantic models\n",
      "13:10:15 [fal]: [\u001b[33mWARNING\u001b[0m]: Could not read dbt sources artifact: Runtime Error\n",
      "  Could not read FreshnessExecutionResultArtifact at \"target/sources.json\" as JSON: [Errno 2] No such file or directory: 'target/sources.json'\n"
     ]
    },
    {
     "data": {
      "text/html": [
       "<div>\n",
       "<style scoped>\n",
       "    .dataframe tbody tr th:only-of-type {\n",
       "        vertical-align: middle;\n",
       "    }\n",
       "\n",
       "    .dataframe tbody tr th {\n",
       "        vertical-align: top;\n",
       "    }\n",
       "\n",
       "    .dataframe thead th {\n",
       "        text-align: right;\n",
       "    }\n",
       "</style>\n",
       "<table border=\"1\" class=\"dataframe\">\n",
       "  <thead>\n",
       "    <tr style=\"text-align: right;\">\n",
       "      <th></th>\n",
       "      <th>table_catalog</th>\n",
       "      <th>table_schema</th>\n",
       "      <th>table_name</th>\n",
       "      <th>column_name</th>\n",
       "      <th>ordinal_position</th>\n",
       "      <th>column_default</th>\n",
       "      <th>is_nullable</th>\n",
       "      <th>data_type</th>\n",
       "      <th>character_maximum_length</th>\n",
       "      <th>character_octet_length</th>\n",
       "      <th>...</th>\n",
       "      <th>is_identity</th>\n",
       "      <th>identity_generation</th>\n",
       "      <th>identity_start</th>\n",
       "      <th>identity_increment</th>\n",
       "      <th>identity_maximum</th>\n",
       "      <th>identity_minimum</th>\n",
       "      <th>identity_cycle</th>\n",
       "      <th>is_generated</th>\n",
       "      <th>generation_expression</th>\n",
       "      <th>is_updatable</th>\n",
       "    </tr>\n",
       "  </thead>\n",
       "  <tbody>\n",
       "    <tr>\n",
       "      <th>0</th>\n",
       "      <td>dev</td>\n",
       "      <td>main</td>\n",
       "      <td>my_sample_source</td>\n",
       "      <td>id</td>\n",
       "      <td>1</td>\n",
       "      <td>None</td>\n",
       "      <td>YES</td>\n",
       "      <td>INTEGER</td>\n",
       "      <td>None</td>\n",
       "      <td>None</td>\n",
       "      <td>...</td>\n",
       "      <td>None</td>\n",
       "      <td>None</td>\n",
       "      <td>None</td>\n",
       "      <td>None</td>\n",
       "      <td>None</td>\n",
       "      <td>None</td>\n",
       "      <td>None</td>\n",
       "      <td>None</td>\n",
       "      <td>None</td>\n",
       "      <td>None</td>\n",
       "    </tr>\n",
       "  </tbody>\n",
       "</table>\n",
       "<p>1 rows × 44 columns</p>\n",
       "</div>"
      ],
      "text/plain": [
       "  table_catalog table_schema        table_name column_name  ordinal_position  \\\n",
       "0           dev         main  my_sample_source          id                 1   \n",
       "\n",
       "  column_default is_nullable data_type character_maximum_length  \\\n",
       "0           None         YES   INTEGER                     None   \n",
       "\n",
       "  character_octet_length  ...  is_identity  identity_generation  \\\n",
       "0                   None  ...         None                 None   \n",
       "\n",
       "   identity_start identity_increment identity_maximum identity_minimum  \\\n",
       "0            None               None             None             None   \n",
       "\n",
       "  identity_cycle is_generated generation_expression is_updatable  \n",
       "0           None         None                  None         None  \n",
       "\n",
       "[1 rows x 44 columns]"
      ]
     },
     "execution_count": null,
     "metadata": {},
     "output_type": "execute_result"
    }
   ],
   "source": [
    "# skip_test\n",
    "source0.schema"
   ]
  },
  {
   "cell_type": "code",
   "execution_count": null,
   "metadata": {},
   "outputs": [],
   "source": [
    "#| include: false\n",
    "# skip_test\n",
    "clear_cache()"
   ]
  },
  {
   "cell_type": "code",
   "execution_count": null,
   "metadata": {},
   "outputs": [],
   "source": [
    "#| include: false\n",
    "# skip_test\n",
    "assert not cache_dir.exists()"
   ]
  },
  {
   "cell_type": "code",
   "execution_count": null,
   "metadata": {},
   "outputs": [],
   "source": []
  }
 ],
 "metadata": {
  "kernelspec": {
   "display_name": "python3",
   "language": "python",
   "name": "python3"
  },
  "widgets": {
   "application/vnd.jupyter.widget-state+json": {
    "state": {},
    "version_major": 2,
    "version_minor": 0
   }
  }
 },
 "nbformat": 4,
 "nbformat_minor": 4
}
