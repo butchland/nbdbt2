{
 "cells": [
  {
   "cell_type": "code",
   "execution_count": null,
   "id": "6d833e62-c727-4379-af08-19bae87f062a",
   "metadata": {},
   "outputs": [],
   "source": [
    "%reload_ext autoreload\n",
    "%autoreload 2"
   ]
  },
  {
   "cell_type": "code",
   "execution_count": null,
   "id": "388e3309-c616-4b92-8436-b9543524990c",
   "metadata": {},
   "outputs": [],
   "source": [
    "import nbdbt2.fal.dbt.integration.project as falproject"
   ]
  },
  {
   "cell_type": "code",
   "execution_count": null,
   "id": "efcd99e2-58e5-42f9-a524-f9a6f2d501b8",
   "metadata": {},
   "outputs": [],
   "source": [
    "# import nbdbt2"
   ]
  },
  {
   "cell_type": "code",
   "execution_count": null,
   "id": "3117733b-78d4-456a-93a4-07fdee62e89b",
   "metadata": {},
   "outputs": [
    {
     "name": "stdout",
     "output_type": "stream",
     "text": [
      "16:07:06 [fal]: [WARNING]: Could not read dbt run_results artifact\n",
      "\u001b[0m16:07:06  Registered adapter: duckdb=1.7.0\n",
      "\u001b[0m16:07:06  Running with dbt=1.7.4\n",
      "\u001b[0m16:07:06  Registered adapter: duckdb=1.7.0\n",
      "\u001b[0m16:07:07  Performance info: /home/butch2/play/experiments/nbtools/nbdbt2/test_dbt/target/perf_info.json\n",
      "\u001b[0m16:07:08  Found 2 models, 4 tests, 0 sources, 0 exposures, 0 metrics, 391 macros, 0 groups, 0 semantic models\n",
      "16:07:08 [fal]: [\u001b[33mWARNING\u001b[0m]: Could not read dbt sources artifact\n"
     ]
    }
   ],
   "source": [
    "faldbt = falproject.FalDbt(project_dir='../test_dbt', \n",
    "                         profiles_dir='../test_profiles',\n",
    "                         profile_target='dev')"
   ]
  },
  {
   "cell_type": "code",
   "execution_count": null,
   "id": "a2322861-6f9b-4e8e-ab50-30ca4d34d6f8",
   "metadata": {},
   "outputs": [],
   "source": [
    "import nbdbt2.fal.dbt.integration.lib as fallib"
   ]
  },
  {
   "cell_type": "code",
   "execution_count": null,
   "id": "ce21cecb-fc51-400d-8dd7-0c805228d825",
   "metadata": {},
   "outputs": [],
   "source": []
  }
 ],
 "metadata": {
  "kernelspec": {
   "display_name": "python3",
   "language": "python",
   "name": "python3"
  },
  "widgets": {
   "application/vnd.jupyter.widget-state+json": {
    "state": {},
    "version_major": 2,
    "version_minor": 0
   }
  }
 },
 "nbformat": 4,
 "nbformat_minor": 5
}
