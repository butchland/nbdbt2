{
 "cells": [
  {
   "cell_type": "code",
   "execution_count": null,
   "id": "6d833e62-c727-4379-af08-19bae87f062a",
   "metadata": {},
   "outputs": [],
   "source": [
    "%reload_ext autoreload\n",
    "%autoreload 2"
   ]
  },
  {
   "cell_type": "code",
   "execution_count": null,
   "id": "388e3309-c616-4b92-8436-b9543524990c",
   "metadata": {},
   "outputs": [],
   "source": [
    "import nbdbt2.integration.project as nbdbtproject"
   ]
  },
  {
   "cell_type": "code",
   "execution_count": null,
   "id": "84f969d9-659a-4dbb-bd6a-1c61b29f1352",
   "metadata": {},
   "outputs": [],
   "source": [
    "import nbdbt2.integration.lib as lib"
   ]
  },
  {
   "cell_type": "code",
   "execution_count": null,
   "id": "adebf125-dcec-4b91-874a-1cc993316d75",
   "metadata": {},
   "outputs": [],
   "source": [
    "from pprint import pprint\n",
    "import json"
   ]
  },
  {
   "cell_type": "code",
   "execution_count": null,
   "id": "efcd99e2-58e5-42f9-a524-f9a6f2d501b8",
   "metadata": {},
   "outputs": [],
   "source": [
    "# import nbdbt2"
   ]
  },
  {
   "cell_type": "code",
   "execution_count": null,
   "id": "3117733b-78d4-456a-93a4-07fdee62e89b",
   "metadata": {},
   "outputs": [
    {
     "name": "stdout",
     "output_type": "stream",
     "text": [
      "17:31:35 [fal]: [WARNING]: Could not read dbt run_results artifact\n",
      "\u001b[0m17:31:35  Registered adapter: duckdb=1.7.0\n",
      "\u001b[0m17:31:35  Running with dbt=1.7.4\n",
      "\u001b[0m17:31:36  Registered adapter: duckdb=1.7.0\n",
      "\u001b[0m17:31:36  Unable to do partial parsing because config vars, config profile, or config target have changed\n",
      "\u001b[0m17:31:37  Performance info: /home/butch2/play/experiments/nbtools/nbdbt2/test_dbt/target/perf_info.json\n",
      "\u001b[0m17:31:37  Found 4 models, 4 analyses, 4 tests, 1 source, 0 exposures, 0 metrics, 391 macros, 0 groups, 0 semantic models\n",
      "17:31:37 [fal]: [\u001b[33mWARNING\u001b[0m]: Could not read dbt sources artifact: Runtime Error\n",
      "  Could not read FreshnessExecutionResultArtifact at \"target/sources.json\" as JSON: [Errno 2] No such file or directory: 'target/sources.json'\n"
     ]
    }
   ],
   "source": [
    "faldbt = nbdbtproject.NbDbt(project_dir='../test_dbt', \n",
    "                         profiles_dir='../test_profiles',\n",
    "                         profile_target='dev')"
   ]
  },
  {
   "cell_type": "code",
   "execution_count": null,
   "id": "a2322861-6f9b-4e8e-ab50-30ca4d34d6f8",
   "metadata": {},
   "outputs": [],
   "source": [
    "import nbdbt2.integration.lib as nbdbtlib"
   ]
  },
  {
   "cell_type": "code",
   "execution_count": null,
   "id": "ce21cecb-fc51-400d-8dd7-0c805228d825",
   "metadata": {},
   "outputs": [],
   "source": [
    "import nbdbt2.integration.project as nbdbtproject"
   ]
  },
  {
   "cell_type": "code",
   "execution_count": null,
   "id": "3a64d887-f0b8-4e4d-afb7-2863332c3632",
   "metadata": {},
   "outputs": [
    {
     "ename": "TypeError",
     "evalue": "CompileArgs.__init__() missing 4 required positional arguments: 'project_dir', 'populate_cache', 'defer', and 'write_json'",
     "output_type": "error",
     "traceback": [
      "\u001b[0;31m---------------------------------------------------------------------------\u001b[0m",
      "\u001b[0;31mTypeError\u001b[0m                                 Traceback (most recent call last)",
      "Cell \u001b[0;32mIn[9], line 1\u001b[0m\n\u001b[0;32m----> 1\u001b[0m compile_args \u001b[38;5;241m=\u001b[39m \u001b[43mnbdbtproject\u001b[49m\u001b[38;5;241;43m.\u001b[39;49m\u001b[43mCompileArgs\u001b[49m\u001b[43m(\u001b[49m\n\u001b[1;32m      2\u001b[0m \u001b[43m                \u001b[49m\u001b[43mselector\u001b[49m\u001b[38;5;241;43m=\u001b[39;49m\u001b[38;5;28;43;01mNone\u001b[39;49;00m\u001b[43m,\u001b[49m\n\u001b[1;32m      3\u001b[0m \u001b[43m                \u001b[49m\u001b[43mselect\u001b[49m\u001b[38;5;241;43m=\u001b[39;49m\u001b[43m[\u001b[49m\u001b[38;5;124;43m'\u001b[39;49m\u001b[38;5;124;43mmy_second_dbt_model\u001b[39;49m\u001b[38;5;124;43m'\u001b[39;49m\u001b[43m]\u001b[49m\u001b[43m,\u001b[49m\n\u001b[1;32m      4\u001b[0m \u001b[43m                \u001b[49m\u001b[43mmodels\u001b[49m\u001b[38;5;241;43m=\u001b[39;49m\u001b[43m[\u001b[49m\u001b[38;5;124;43m'\u001b[39;49m\u001b[38;5;124;43mmy_second_dbt_model\u001b[39;49m\u001b[38;5;124;43m'\u001b[39;49m\u001b[43m]\u001b[49m\u001b[43m,\u001b[49m\n\u001b[1;32m      5\u001b[0m \u001b[43m                \u001b[49m\u001b[43mexclude\u001b[49m\u001b[38;5;241;43m=\u001b[39;49m\u001b[38;5;28;43mtuple\u001b[39;49m\u001b[43m(\u001b[49m\u001b[43m[\u001b[49m\u001b[43m]\u001b[49m\u001b[43m)\u001b[49m\u001b[43m,\u001b[49m\n\u001b[1;32m      6\u001b[0m \u001b[43m                \u001b[49m\u001b[43mstate\u001b[49m\u001b[38;5;241;43m=\u001b[39;49m\u001b[38;5;28;43;01mNone\u001b[39;49;00m\u001b[43m,\u001b[49m\n\u001b[1;32m      7\u001b[0m \u001b[43m                \u001b[49m\u001b[43mdefer_state\u001b[49m\u001b[38;5;241;43m=\u001b[39;49m\u001b[38;5;28;43;01mNone\u001b[39;49;00m\u001b[43m,\u001b[49m\n\u001b[1;32m      8\u001b[0m \u001b[43m                \u001b[49m\u001b[43msingle_threaded\u001b[49m\u001b[38;5;241;43m=\u001b[39;49m\u001b[38;5;28;43;01mNone\u001b[39;49;00m\n\u001b[1;32m      9\u001b[0m \u001b[43m)\u001b[49m\n",
      "\u001b[0;31mTypeError\u001b[0m: CompileArgs.__init__() missing 4 required positional arguments: 'project_dir', 'populate_cache', 'defer', and 'write_json'"
     ]
    }
   ],
   "source": [
    "compile_args = nbdbtproject.CompileArgs(\n",
    "                selector=None,\n",
    "                select=['my_second_dbt_model'],\n",
    "                models=['my_second_dbt_model'],\n",
    "                exclude=tuple([]),\n",
    "                state=None,\n",
    "                defer_state=None,\n",
    "                single_threaded=None\n",
    ")"
   ]
  },
  {
   "cell_type": "code",
   "execution_count": null,
   "id": "5f29a656-3098-4cba-b325-62c793cf5a59",
   "metadata": {},
   "outputs": [],
   "source": [
    "# result = faldbt._compile_task."
   ]
  },
  {
   "cell_type": "code",
   "execution_count": null,
   "id": "68bb426f-de68-42a7-848d-7d4ab2680d7d",
   "metadata": {},
   "outputs": [],
   "source": [
    "def test_execute_sql(faldbt):\n",
    "    sql = \"select * from {{ref('my_third_dbt_model')}}\"\n",
    "    result = faldbt.execute_sql(sql)\n",
    "    return result"
   ]
  },
  {
   "cell_type": "code",
   "execution_count": null,
   "id": "e490e4f3-7f7c-4b44-8591-4eeeffe14559",
   "metadata": {},
   "outputs": [],
   "source": [
    "result = test_execute_sql(faldbt)\n",
    "result"
   ]
  },
  {
   "cell_type": "code",
   "execution_count": null,
   "id": "1d9ec1e6-1062-4af8-9e87-6f6445e96198",
   "metadata": {},
   "outputs": [],
   "source": [
    "# sql = 'select * from dev.main.my_first_dbt_model'\n",
    "# project_dir = '/home/butch2/play/experiments/nbtools/nbdbt2/test_dbt'\n",
    "# profiles_dir = '/home/butch2/play/experiments/nbtools/nbdbt2/test_profiles'\n",
    "# _profile_target = 'dev'"
   ]
  },
  {
   "cell_type": "code",
   "execution_count": null,
   "id": "ab5f4e3c-6c97-418d-95a1-aa8ad10957ff",
   "metadata": {},
   "outputs": [],
   "source": []
  }
 ],
 "metadata": {
  "kernelspec": {
   "display_name": "python3",
   "language": "python",
   "name": "python3"
  },
  "widgets": {
   "application/vnd.jupyter.widget-state+json": {
    "state": {},
    "version_major": 2,
    "version_minor": 0
   }
  }
 },
 "nbformat": 4,
 "nbformat_minor": 5
}
