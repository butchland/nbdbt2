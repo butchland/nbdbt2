{
 "cells": [
  {
   "cell_type": "code",
   "execution_count": null,
   "id": "6d833e62-c727-4379-af08-19bae87f062a",
   "metadata": {},
   "outputs": [],
   "source": [
    "%reload_ext autoreload\n",
    "%autoreload 2"
   ]
  },
  {
   "cell_type": "code",
   "execution_count": null,
   "id": "388e3309-c616-4b92-8436-b9543524990c",
   "metadata": {},
   "outputs": [],
   "source": [
    "import nbdbt2.fal.dbt.integration.project as falproject"
   ]
  },
  {
   "cell_type": "code",
   "execution_count": null,
   "id": "efcd99e2-58e5-42f9-a524-f9a6f2d501b8",
   "metadata": {},
   "outputs": [],
   "source": [
    "# import nbdbt2"
   ]
  },
  {
   "cell_type": "code",
   "execution_count": null,
   "id": "3117733b-78d4-456a-93a4-07fdee62e89b",
   "metadata": {},
   "outputs": [],
   "source": []
  }
 ],
 "metadata": {
  "kernelspec": {
   "display_name": "python3",
   "language": "python",
   "name": "python3"
  },
  "widgets": {
   "application/vnd.jupyter.widget-state+json": {
    "state": {},
    "version_major": 2,
    "version_minor": 0
   }
  }
 },
 "nbformat": 4,
 "nbformat_minor": 5
}
