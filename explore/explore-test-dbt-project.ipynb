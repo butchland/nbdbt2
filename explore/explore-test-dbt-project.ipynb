{
 "cells": [
  {
   "cell_type": "code",
   "execution_count": null,
   "id": "3041875f-f893-45d6-a169-5935bd8f5545",
   "metadata": {},
   "outputs": [],
   "source": [
    "%reload_ext autoreload\n",
    "%autoreload 2"
   ]
  },
  {
   "cell_type": "code",
   "execution_count": null,
   "id": "87bf3089-8517-4a12-995f-72a51365d08b",
   "metadata": {},
   "outputs": [],
   "source": [
    "import nbdbt2.dbt_cellmagic"
   ]
  },
  {
   "cell_type": "code",
   "execution_count": null,
   "id": "4eec3833-705f-4000-82d2-fdc3197551b4",
   "metadata": {},
   "outputs": [],
   "source": [
    "%dbtconfig -d ../test_profiles -p ../test_dbt_project2 -n explore/explore-test-dbt-project.ipynb"
   ]
  },
  {
   "cell_type": "code",
   "execution_count": null,
   "id": "fa90df6b-4d3f-4266-8321-64f8a4b460ef",
   "metadata": {},
   "outputs": [],
   "source": [
    "import nbdbt2.fal.dbt.integration.project as falproject"
   ]
  },
  {
   "cell_type": "code",
   "execution_count": null,
   "id": "8c7ce9f9-0c3c-4f27-87d6-3f2042542f7e",
   "metadata": {},
   "outputs": [],
   "source": [
    "from nbdbt2.dbt_cellmagic import nbdbt_config"
   ]
  },
  {
   "cell_type": "code",
   "execution_count": null,
   "id": "15ca92b1-8e12-4efe-ba03-ce0f02070411",
   "metadata": {},
   "outputs": [
    {
     "name": "stdout",
     "output_type": "stream",
     "text": [
      "15:21:41 [fal]: [WARNING]: Could not read dbt run_results artifact\n",
      "\u001b[0m15:21:41  Registered adapter: duckdb=1.7.0\n",
      "\u001b[0m15:21:41  Running with dbt=1.7.4\n",
      "\u001b[0m15:21:41  Registered adapter: duckdb=1.7.0\n",
      "\u001b[0m15:21:41  Unable to do partial parsing because config vars, config profile, or config target have changed\n",
      "\u001b[0m15:21:42  [\u001b[33mWARNING\u001b[0m]: Configuration paths exist in your dbt_project.yml file which do not apply to any resources.\n",
      "There are 1 unused configuration paths:\n",
      "- models.test_dbt_project2\n",
      "\u001b[0m15:21:42  Performance info: /home/butch2/play/experiments/nbtools/nbdbt2/test_dbt_project2/target/perf_info.json\n",
      "\u001b[0m15:21:42  Found 1 operation, 8 sources, 0 exposures, 0 metrics, 391 macros, 0 groups, 0 semantic models\n",
      "15:21:42 [fal]: [\u001b[33mWARNING\u001b[0m]: Could not read dbt sources artifact: Runtime Error\n",
      "  Could not read FreshnessExecutionResultArtifact at \"target/sources.json\" as JSON: [Errno 2] No such file or directory: 'target/sources.json'\n"
     ]
    }
   ],
   "source": [
    "faldbt = falproject.FalDbt(project_dir=nbdbt_config['project_dir'], \n",
    "                         profiles_dir=nbdbt_config['profiles_dir'],\n",
    "                         profile_target='dev')"
   ]
  },
  {
   "cell_type": "code",
   "execution_count": null,
   "id": "d33fbbf8-3488-4bd1-ab30-f4307a1f5602",
   "metadata": {},
   "outputs": [
    {
     "data": {
      "text/plain": [
       "[DbtSource(name='nba', table_name='schedule', tests=[], status='skipped'),\n",
       " DbtSource(name='nba', table_name='team_ratings', tests=[], status='skipped'),\n",
       " DbtSource(name='nba', table_name='xf_series_to_seed', tests=[], status='skipped'),\n",
       " DbtSource(name='nba', table_name='nba_elo_latest', tests=[], status='skipped'),\n",
       " DbtSource(name='nba', table_name='latest_RAPTOR_by_player', tests=[], status='skipped'),\n",
       " DbtSource(name='nba', table_name='latest_RAPTOR_by_team', tests=[], status='skipped'),\n",
       " DbtSource(name='nba_prep', table_name='elo_post', tests=[], status='skipped'),\n",
       " DbtSource(name='nba_prep', table_name='results_log', tests=[], status='skipped')]"
      ]
     },
     "execution_count": null,
     "metadata": {},
     "output_type": "execute_result"
    }
   ],
   "source": [
    "sources = faldbt.list_sources(); sources"
   ]
  },
  {
   "cell_type": "code",
   "execution_count": null,
   "id": "c3151c1e-4d92-4aac-a966-009afa14404e",
   "metadata": {},
   "outputs": [
    {
     "name": "stdout",
     "output_type": "stream",
     "text": [
      "15:39:48 [fal]: [WARNING]: Could not read dbt run_results artifact\n",
      "\u001b[0m15:39:48  Registered adapter: duckdb=1.7.0\n",
      "\u001b[0m15:39:48  Running with dbt=1.7.4\n",
      "\u001b[0m15:39:48  Registered adapter: duckdb=1.7.0\n",
      "\u001b[0m15:39:48  [\u001b[33mWARNING\u001b[0m]: Configuration paths exist in your dbt_project.yml file which do not apply to any resources.\n",
      "There are 1 unused configuration paths:\n",
      "- models.test_dbt_project2\n",
      "\u001b[0m15:39:48  Performance info: /home/butch2/play/experiments/nbtools/nbdbt2/test_dbt_project2/target/perf_info.json\n",
      "\u001b[0m15:39:48  Found 1 operation, 1 analysis, 8 sources, 0 exposures, 0 metrics, 505 macros, 0 groups, 0 semantic models\n",
      "15:39:48 [fal]: [\u001b[33mWARNING\u001b[0m]: Could not read dbt sources artifact: Runtime Error\n",
      "  Could not read FreshnessExecutionResultArtifact at \"target/sources.json\" as JSON: [Errno 2] No such file or directory: 'target/sources.json'\n",
      "\u001b[0m15:39:48  Found 1 operation, 1 analysis, 8 sources, 0 exposures, 0 metrics, 505 macros, 0 groups, 0 semantic models\n",
      "\u001b[0m15:39:48  \n",
      "\u001b[0m15:39:48  Concurrency: 4 threads (target='dev')\n",
      "\u001b[0m15:39:48  \n",
      "\u001b[0m15:39:48  Compiled node 'qry_schedule_source' is:\n",
      "-- AUTOGENERATED! DO NOT EDIT! File to edit: explore/explore-test-dbt-project.ipynb (unless otherwise specified).\n",
      "select *\n",
      "from '/home/butch2/play/experiments/nbtools/nbdbt2/data/data_catalog/psa/nba_schedule_2023/*.parquet'\n"
     ]
    }
   ],
   "source": [
    "%%dbt -a schedule analysis/qry_schedule_source.sql\n",
    "select *\n",
    "from {{ source('nba','schedule') }}"
   ]
  },
  {
   "cell_type": "code",
   "execution_count": null,
   "id": "c93ddbcc-8fd5-4377-a9c4-9f62a5345b10",
   "metadata": {},
   "outputs": [],
   "source": [
    "import nbdbt2.fal.dbt.integration.lib as fallib"
   ]
  },
  {
   "cell_type": "code",
   "execution_count": null,
   "id": "fe0b2162-be97-4fb8-8a59-9f7fa6b8e42b",
   "metadata": {},
   "outputs": [],
   "source": [
    "result = fallib.execute_sql(\n",
    "    schedule.project_dir,\n",
    "    schedule.profile_dir,\n",
    "    faldbt._profile_target,\n",
    "    schedule._compiled_sql)"
   ]
  },
  {
   "cell_type": "code",
   "execution_count": null,
   "id": "eba6066d-c285-4ff6-8fc9-722af4b3d9db",
   "metadata": {},
   "outputs": [
    {
     "data": {
      "text/plain": [
       "Index(['series_id', 'type', 'key', 'date', '_smart_source_lineno', 'arena',\n",
       "       '_smart_source_file', '_sdc_extracted_at', 'pts', 'homeneutral',\n",
       "       'notes', 'visitorneutral', 'attend', 'start_et',\n",
       "       '_smart_source_bucket'],\n",
       "      dtype='object')"
      ]
     },
     "execution_count": null,
     "metadata": {},
     "output_type": "execute_result"
    }
   ],
   "source": [
    "result.columns"
   ]
  },
  {
   "cell_type": "code",
   "execution_count": null,
   "id": "8fa586c3-37b0-4318-931a-0dca13341ce4",
   "metadata": {},
   "outputs": [
    {
     "data": {
      "text/plain": [
       "series_id                int64\n",
       "type                    object\n",
       "key                      int64\n",
       "date                    object\n",
       "_smart_source_lineno     int64\n",
       "arena                   object\n",
       "_smart_source_file      object\n",
       "_sdc_extracted_at       object\n",
       "pts                     object\n",
       "homeneutral             object\n",
       "notes                   object\n",
       "visitorneutral          object\n",
       "attend                  object\n",
       "start_et                object\n",
       "_smart_source_bucket    object\n",
       "dtype: object"
      ]
     },
     "execution_count": null,
     "metadata": {},
     "output_type": "execute_result"
    }
   ],
   "source": [
    "result.dtypes"
   ]
  },
  {
   "cell_type": "code",
   "execution_count": null,
   "id": "4636b1e3-0b8a-4ee4-826b-0f868c9c3e2e",
   "metadata": {},
   "outputs": [
    {
     "data": {
      "text/html": [
       "<div>\n",
       "<style scoped>\n",
       "    .dataframe tbody tr th:only-of-type {\n",
       "        vertical-align: middle;\n",
       "    }\n",
       "\n",
       "    .dataframe tbody tr th {\n",
       "        vertical-align: top;\n",
       "    }\n",
       "\n",
       "    .dataframe thead th {\n",
       "        text-align: right;\n",
       "    }\n",
       "</style>\n",
       "<table border=\"1\" class=\"dataframe\">\n",
       "  <thead>\n",
       "    <tr style=\"text-align: right;\">\n",
       "      <th></th>\n",
       "      <th>series_id</th>\n",
       "      <th>type</th>\n",
       "      <th>key</th>\n",
       "      <th>date</th>\n",
       "      <th>_smart_source_lineno</th>\n",
       "      <th>arena</th>\n",
       "      <th>_smart_source_file</th>\n",
       "      <th>_sdc_extracted_at</th>\n",
       "      <th>pts</th>\n",
       "      <th>homeneutral</th>\n",
       "      <th>notes</th>\n",
       "      <th>visitorneutral</th>\n",
       "      <th>attend</th>\n",
       "      <th>start_et</th>\n",
       "      <th>_smart_source_bucket</th>\n",
       "    </tr>\n",
       "  </thead>\n",
       "  <tbody>\n",
       "    <tr>\n",
       "      <th>0</th>\n",
       "      <td>0</td>\n",
       "      <td>reg_season</td>\n",
       "      <td>1</td>\n",
       "      <td>Tue Oct 18 2022</td>\n",
       "      <td>2</td>\n",
       "      <td>TD Garden</td>\n",
       "      <td>nba_schedule_2023.csv</td>\n",
       "      <td>2022-11-29T15:49:10.947545</td>\n",
       "      <td>None</td>\n",
       "      <td>Boston Celtics</td>\n",
       "      <td>None</td>\n",
       "      <td>Philadelphia 76ers</td>\n",
       "      <td>None</td>\n",
       "      <td>7:30p</td>\n",
       "      <td>file://./data</td>\n",
       "    </tr>\n",
       "    <tr>\n",
       "      <th>1</th>\n",
       "      <td>0</td>\n",
       "      <td>reg_season</td>\n",
       "      <td>2</td>\n",
       "      <td>Tue Oct 18 2022</td>\n",
       "      <td>3</td>\n",
       "      <td>Chase Center</td>\n",
       "      <td>nba_schedule_2023.csv</td>\n",
       "      <td>2022-11-29T15:49:10.947945</td>\n",
       "      <td>None</td>\n",
       "      <td>Golden State Warriors</td>\n",
       "      <td>None</td>\n",
       "      <td>Los Angeles Lakers</td>\n",
       "      <td>None</td>\n",
       "      <td>10:00p</td>\n",
       "      <td>file://./data</td>\n",
       "    </tr>\n",
       "    <tr>\n",
       "      <th>2</th>\n",
       "      <td>0</td>\n",
       "      <td>reg_season</td>\n",
       "      <td>3</td>\n",
       "      <td>Wed Oct 19 2022</td>\n",
       "      <td>4</td>\n",
       "      <td>Little Caesars Arena</td>\n",
       "      <td>nba_schedule_2023.csv</td>\n",
       "      <td>2022-11-29T15:49:10.948268</td>\n",
       "      <td>None</td>\n",
       "      <td>Detroit Pistons</td>\n",
       "      <td>None</td>\n",
       "      <td>Orlando Magic</td>\n",
       "      <td>None</td>\n",
       "      <td>7:00p</td>\n",
       "      <td>file://./data</td>\n",
       "    </tr>\n",
       "    <tr>\n",
       "      <th>3</th>\n",
       "      <td>0</td>\n",
       "      <td>reg_season</td>\n",
       "      <td>4</td>\n",
       "      <td>Wed Oct 19 2022</td>\n",
       "      <td>5</td>\n",
       "      <td>Gainbridge Fieldhouse</td>\n",
       "      <td>nba_schedule_2023.csv</td>\n",
       "      <td>2022-11-29T15:49:10.948541</td>\n",
       "      <td>None</td>\n",
       "      <td>Indiana Pacers</td>\n",
       "      <td>None</td>\n",
       "      <td>Washington Wizards</td>\n",
       "      <td>None</td>\n",
       "      <td>7:00p</td>\n",
       "      <td>file://./data</td>\n",
       "    </tr>\n",
       "    <tr>\n",
       "      <th>4</th>\n",
       "      <td>0</td>\n",
       "      <td>reg_season</td>\n",
       "      <td>5</td>\n",
       "      <td>Wed Oct 19 2022</td>\n",
       "      <td>6</td>\n",
       "      <td>State Farm Arena</td>\n",
       "      <td>nba_schedule_2023.csv</td>\n",
       "      <td>2022-11-29T15:49:10.948829</td>\n",
       "      <td>None</td>\n",
       "      <td>Atlanta Hawks</td>\n",
       "      <td>None</td>\n",
       "      <td>Houston Rockets</td>\n",
       "      <td>None</td>\n",
       "      <td>7:30p</td>\n",
       "      <td>file://./data</td>\n",
       "    </tr>\n",
       "  </tbody>\n",
       "</table>\n",
       "</div>"
      ],
      "text/plain": [
       "   series_id        type  key             date  _smart_source_lineno  \\\n",
       "0          0  reg_season    1  Tue Oct 18 2022                     2   \n",
       "1          0  reg_season    2  Tue Oct 18 2022                     3   \n",
       "2          0  reg_season    3  Wed Oct 19 2022                     4   \n",
       "3          0  reg_season    4  Wed Oct 19 2022                     5   \n",
       "4          0  reg_season    5  Wed Oct 19 2022                     6   \n",
       "\n",
       "                   arena     _smart_source_file           _sdc_extracted_at  \\\n",
       "0              TD Garden  nba_schedule_2023.csv  2022-11-29T15:49:10.947545   \n",
       "1           Chase Center  nba_schedule_2023.csv  2022-11-29T15:49:10.947945   \n",
       "2   Little Caesars Arena  nba_schedule_2023.csv  2022-11-29T15:49:10.948268   \n",
       "3  Gainbridge Fieldhouse  nba_schedule_2023.csv  2022-11-29T15:49:10.948541   \n",
       "4       State Farm Arena  nba_schedule_2023.csv  2022-11-29T15:49:10.948829   \n",
       "\n",
       "    pts            homeneutral notes      visitorneutral attend start_et  \\\n",
       "0  None         Boston Celtics  None  Philadelphia 76ers   None    7:30p   \n",
       "1  None  Golden State Warriors  None  Los Angeles Lakers   None   10:00p   \n",
       "2  None        Detroit Pistons  None       Orlando Magic   None    7:00p   \n",
       "3  None         Indiana Pacers  None  Washington Wizards   None    7:00p   \n",
       "4  None          Atlanta Hawks  None     Houston Rockets   None    7:30p   \n",
       "\n",
       "  _smart_source_bucket  \n",
       "0        file://./data  \n",
       "1        file://./data  \n",
       "2        file://./data  \n",
       "3        file://./data  \n",
       "4        file://./data  "
      ]
     },
     "execution_count": null,
     "metadata": {},
     "output_type": "execute_result"
    }
   ],
   "source": [
    "result.head()"
   ]
  },
  {
   "cell_type": "code",
   "execution_count": null,
   "id": "19155403-3b2f-40b4-96d1-6bf1f31c34c6",
   "metadata": {},
   "outputs": [
    {
     "name": "stdout",
     "output_type": "stream",
     "text": [
      "15:58:57 [fal]: [WARNING]: Could not read dbt run_results artifact\n",
      "\u001b[0m15:58:57  Registered adapter: duckdb=1.7.0\n",
      "\u001b[0m15:58:57  Running with dbt=1.7.4\n",
      "\u001b[0m15:58:57  Registered adapter: duckdb=1.7.0\n",
      "\u001b[0m15:58:57  [\u001b[33mWARNING\u001b[0m]: Configuration paths exist in your dbt_project.yml file which do not apply to any resources.\n",
      "There are 1 unused configuration paths:\n",
      "- models.test_dbt_project2\n",
      "\u001b[0m15:58:57  Performance info: /home/butch2/play/experiments/nbtools/nbdbt2/test_dbt_project2/target/perf_info.json\n",
      "\u001b[0m15:58:57  Found 1 operation, 1 analysis, 8 sources, 0 exposures, 0 metrics, 505 macros, 0 groups, 0 semantic models\n",
      "15:58:57 [fal]: [\u001b[33mWARNING\u001b[0m]: Could not read dbt sources artifact: Runtime Error\n",
      "  Could not read FreshnessExecutionResultArtifact at \"target/sources.json\" as JSON: [Errno 2] No such file or directory: 'target/sources.json'\n"
     ]
    },
    {
     "data": {
      "text/html": [
       "<div>\n",
       "<style scoped>\n",
       "    .dataframe tbody tr th:only-of-type {\n",
       "        vertical-align: middle;\n",
       "    }\n",
       "\n",
       "    .dataframe tbody tr th {\n",
       "        vertical-align: top;\n",
       "    }\n",
       "\n",
       "    .dataframe thead th {\n",
       "        text-align: right;\n",
       "    }\n",
       "</style>\n",
       "<table border=\"1\" class=\"dataframe\">\n",
       "  <thead>\n",
       "    <tr style=\"text-align: right;\">\n",
       "      <th></th>\n",
       "      <th>series_id</th>\n",
       "      <th>type</th>\n",
       "      <th>key</th>\n",
       "      <th>date</th>\n",
       "      <th>_smart_source_lineno</th>\n",
       "      <th>arena</th>\n",
       "      <th>_smart_source_file</th>\n",
       "      <th>_sdc_extracted_at</th>\n",
       "      <th>pts</th>\n",
       "      <th>homeneutral</th>\n",
       "      <th>notes</th>\n",
       "      <th>visitorneutral</th>\n",
       "      <th>attend</th>\n",
       "      <th>start_et</th>\n",
       "      <th>_smart_source_bucket</th>\n",
       "    </tr>\n",
       "  </thead>\n",
       "  <tbody>\n",
       "    <tr>\n",
       "      <th>0</th>\n",
       "      <td>0</td>\n",
       "      <td>reg_season</td>\n",
       "      <td>1</td>\n",
       "      <td>Tue Oct 18 2022</td>\n",
       "      <td>2</td>\n",
       "      <td>TD Garden</td>\n",
       "      <td>nba_schedule_2023.csv</td>\n",
       "      <td>2022-11-29T15:49:10.947545</td>\n",
       "      <td>None</td>\n",
       "      <td>Boston Celtics</td>\n",
       "      <td>None</td>\n",
       "      <td>Philadelphia 76ers</td>\n",
       "      <td>None</td>\n",
       "      <td>7:30p</td>\n",
       "      <td>file://./data</td>\n",
       "    </tr>\n",
       "    <tr>\n",
       "      <th>1</th>\n",
       "      <td>0</td>\n",
       "      <td>reg_season</td>\n",
       "      <td>2</td>\n",
       "      <td>Tue Oct 18 2022</td>\n",
       "      <td>3</td>\n",
       "      <td>Chase Center</td>\n",
       "      <td>nba_schedule_2023.csv</td>\n",
       "      <td>2022-11-29T15:49:10.947945</td>\n",
       "      <td>None</td>\n",
       "      <td>Golden State Warriors</td>\n",
       "      <td>None</td>\n",
       "      <td>Los Angeles Lakers</td>\n",
       "      <td>None</td>\n",
       "      <td>10:00p</td>\n",
       "      <td>file://./data</td>\n",
       "    </tr>\n",
       "    <tr>\n",
       "      <th>2</th>\n",
       "      <td>0</td>\n",
       "      <td>reg_season</td>\n",
       "      <td>3</td>\n",
       "      <td>Wed Oct 19 2022</td>\n",
       "      <td>4</td>\n",
       "      <td>Little Caesars Arena</td>\n",
       "      <td>nba_schedule_2023.csv</td>\n",
       "      <td>2022-11-29T15:49:10.948268</td>\n",
       "      <td>None</td>\n",
       "      <td>Detroit Pistons</td>\n",
       "      <td>None</td>\n",
       "      <td>Orlando Magic</td>\n",
       "      <td>None</td>\n",
       "      <td>7:00p</td>\n",
       "      <td>file://./data</td>\n",
       "    </tr>\n",
       "    <tr>\n",
       "      <th>3</th>\n",
       "      <td>0</td>\n",
       "      <td>reg_season</td>\n",
       "      <td>4</td>\n",
       "      <td>Wed Oct 19 2022</td>\n",
       "      <td>5</td>\n",
       "      <td>Gainbridge Fieldhouse</td>\n",
       "      <td>nba_schedule_2023.csv</td>\n",
       "      <td>2022-11-29T15:49:10.948541</td>\n",
       "      <td>None</td>\n",
       "      <td>Indiana Pacers</td>\n",
       "      <td>None</td>\n",
       "      <td>Washington Wizards</td>\n",
       "      <td>None</td>\n",
       "      <td>7:00p</td>\n",
       "      <td>file://./data</td>\n",
       "    </tr>\n",
       "    <tr>\n",
       "      <th>4</th>\n",
       "      <td>0</td>\n",
       "      <td>reg_season</td>\n",
       "      <td>5</td>\n",
       "      <td>Wed Oct 19 2022</td>\n",
       "      <td>6</td>\n",
       "      <td>State Farm Arena</td>\n",
       "      <td>nba_schedule_2023.csv</td>\n",
       "      <td>2022-11-29T15:49:10.948829</td>\n",
       "      <td>None</td>\n",
       "      <td>Atlanta Hawks</td>\n",
       "      <td>None</td>\n",
       "      <td>Houston Rockets</td>\n",
       "      <td>None</td>\n",
       "      <td>7:30p</td>\n",
       "      <td>file://./data</td>\n",
       "    </tr>\n",
       "  </tbody>\n",
       "</table>\n",
       "</div>"
      ],
      "text/plain": [
       "   series_id        type  key             date  _smart_source_lineno  \\\n",
       "0          0  reg_season    1  Tue Oct 18 2022                     2   \n",
       "1          0  reg_season    2  Tue Oct 18 2022                     3   \n",
       "2          0  reg_season    3  Wed Oct 19 2022                     4   \n",
       "3          0  reg_season    4  Wed Oct 19 2022                     5   \n",
       "4          0  reg_season    5  Wed Oct 19 2022                     6   \n",
       "\n",
       "                   arena     _smart_source_file           _sdc_extracted_at  \\\n",
       "0              TD Garden  nba_schedule_2023.csv  2022-11-29T15:49:10.947545   \n",
       "1           Chase Center  nba_schedule_2023.csv  2022-11-29T15:49:10.947945   \n",
       "2   Little Caesars Arena  nba_schedule_2023.csv  2022-11-29T15:49:10.948268   \n",
       "3  Gainbridge Fieldhouse  nba_schedule_2023.csv  2022-11-29T15:49:10.948541   \n",
       "4       State Farm Arena  nba_schedule_2023.csv  2022-11-29T15:49:10.948829   \n",
       "\n",
       "    pts            homeneutral notes      visitorneutral attend start_et  \\\n",
       "0  None         Boston Celtics  None  Philadelphia 76ers   None    7:30p   \n",
       "1  None  Golden State Warriors  None  Los Angeles Lakers   None   10:00p   \n",
       "2  None        Detroit Pistons  None       Orlando Magic   None    7:00p   \n",
       "3  None         Indiana Pacers  None  Washington Wizards   None    7:00p   \n",
       "4  None          Atlanta Hawks  None     Houston Rockets   None    7:30p   \n",
       "\n",
       "  _smart_source_bucket  \n",
       "0        file://./data  \n",
       "1        file://./data  \n",
       "2        file://./data  \n",
       "3        file://./data  \n",
       "4        file://./data  "
      ]
     },
     "execution_count": null,
     "metadata": {},
     "output_type": "execute_result"
    }
   ],
   "source": [
    "result2 = schedule.ref(limit=None);result2.head()"
   ]
  },
  {
   "cell_type": "code",
   "execution_count": null,
   "id": "af2197bf-1d4e-4d67-8b88-54bf72f91758",
   "metadata": {},
   "outputs": [
    {
     "name": "stdout",
     "output_type": "stream",
     "text": [
      "15:59:47 [fal]: [WARNING]: Could not read dbt run_results artifact\n",
      "\u001b[0m15:59:47  Registered adapter: duckdb=1.7.0\n",
      "\u001b[0m15:59:47  Running with dbt=1.7.4\n",
      "\u001b[0m15:59:47  Registered adapter: duckdb=1.7.0\n",
      "\u001b[0m15:59:47  [\u001b[33mWARNING\u001b[0m]: Configuration paths exist in your dbt_project.yml file which do not apply to any resources.\n",
      "There are 1 unused configuration paths:\n",
      "- models.test_dbt_project2\n",
      "\u001b[0m15:59:47  Performance info: /home/butch2/play/experiments/nbtools/nbdbt2/test_dbt_project2/target/perf_info.json\n",
      "\u001b[0m15:59:47  Found 1 operation, 1 analysis, 8 sources, 0 exposures, 0 metrics, 505 macros, 0 groups, 0 semantic models\n",
      "15:59:47 [fal]: [\u001b[33mWARNING\u001b[0m]: Could not read dbt sources artifact: Runtime Error\n",
      "  Could not read FreshnessExecutionResultArtifact at \"target/sources.json\" as JSON: [Errno 2] No such file or directory: 'target/sources.json'\n"
     ]
    },
    {
     "data": {
      "text/html": [
       "<div>\n",
       "<style scoped>\n",
       "    .dataframe tbody tr th:only-of-type {\n",
       "        vertical-align: middle;\n",
       "    }\n",
       "\n",
       "    .dataframe tbody tr th {\n",
       "        vertical-align: top;\n",
       "    }\n",
       "\n",
       "    .dataframe thead th {\n",
       "        text-align: right;\n",
       "    }\n",
       "</style>\n",
       "<table border=\"1\" class=\"dataframe\">\n",
       "  <thead>\n",
       "    <tr style=\"text-align: right;\">\n",
       "      <th></th>\n",
       "      <th>series_id</th>\n",
       "      <th>type</th>\n",
       "      <th>key</th>\n",
       "      <th>date</th>\n",
       "      <th>_smart_source_lineno</th>\n",
       "      <th>arena</th>\n",
       "      <th>_smart_source_file</th>\n",
       "      <th>_sdc_extracted_at</th>\n",
       "      <th>pts</th>\n",
       "      <th>homeneutral</th>\n",
       "      <th>notes</th>\n",
       "      <th>visitorneutral</th>\n",
       "      <th>attend</th>\n",
       "      <th>start_et</th>\n",
       "      <th>_smart_source_bucket</th>\n",
       "    </tr>\n",
       "  </thead>\n",
       "  <tbody>\n",
       "    <tr>\n",
       "      <th>0</th>\n",
       "      <td>0</td>\n",
       "      <td>reg_season</td>\n",
       "      <td>1</td>\n",
       "      <td>Tue Oct 18 2022</td>\n",
       "      <td>2</td>\n",
       "      <td>TD Garden</td>\n",
       "      <td>nba_schedule_2023.csv</td>\n",
       "      <td>2022-11-29T15:49:10.947545</td>\n",
       "      <td>None</td>\n",
       "      <td>Boston Celtics</td>\n",
       "      <td>None</td>\n",
       "      <td>Philadelphia 76ers</td>\n",
       "      <td>None</td>\n",
       "      <td>7:30p</td>\n",
       "      <td>file://./data</td>\n",
       "    </tr>\n",
       "    <tr>\n",
       "      <th>1</th>\n",
       "      <td>0</td>\n",
       "      <td>reg_season</td>\n",
       "      <td>2</td>\n",
       "      <td>Tue Oct 18 2022</td>\n",
       "      <td>3</td>\n",
       "      <td>Chase Center</td>\n",
       "      <td>nba_schedule_2023.csv</td>\n",
       "      <td>2022-11-29T15:49:10.947945</td>\n",
       "      <td>None</td>\n",
       "      <td>Golden State Warriors</td>\n",
       "      <td>None</td>\n",
       "      <td>Los Angeles Lakers</td>\n",
       "      <td>None</td>\n",
       "      <td>10:00p</td>\n",
       "      <td>file://./data</td>\n",
       "    </tr>\n",
       "    <tr>\n",
       "      <th>2</th>\n",
       "      <td>0</td>\n",
       "      <td>reg_season</td>\n",
       "      <td>3</td>\n",
       "      <td>Wed Oct 19 2022</td>\n",
       "      <td>4</td>\n",
       "      <td>Little Caesars Arena</td>\n",
       "      <td>nba_schedule_2023.csv</td>\n",
       "      <td>2022-11-29T15:49:10.948268</td>\n",
       "      <td>None</td>\n",
       "      <td>Detroit Pistons</td>\n",
       "      <td>None</td>\n",
       "      <td>Orlando Magic</td>\n",
       "      <td>None</td>\n",
       "      <td>7:00p</td>\n",
       "      <td>file://./data</td>\n",
       "    </tr>\n",
       "    <tr>\n",
       "      <th>3</th>\n",
       "      <td>0</td>\n",
       "      <td>reg_season</td>\n",
       "      <td>4</td>\n",
       "      <td>Wed Oct 19 2022</td>\n",
       "      <td>5</td>\n",
       "      <td>Gainbridge Fieldhouse</td>\n",
       "      <td>nba_schedule_2023.csv</td>\n",
       "      <td>2022-11-29T15:49:10.948541</td>\n",
       "      <td>None</td>\n",
       "      <td>Indiana Pacers</td>\n",
       "      <td>None</td>\n",
       "      <td>Washington Wizards</td>\n",
       "      <td>None</td>\n",
       "      <td>7:00p</td>\n",
       "      <td>file://./data</td>\n",
       "    </tr>\n",
       "    <tr>\n",
       "      <th>4</th>\n",
       "      <td>0</td>\n",
       "      <td>reg_season</td>\n",
       "      <td>5</td>\n",
       "      <td>Wed Oct 19 2022</td>\n",
       "      <td>6</td>\n",
       "      <td>State Farm Arena</td>\n",
       "      <td>nba_schedule_2023.csv</td>\n",
       "      <td>2022-11-29T15:49:10.948829</td>\n",
       "      <td>None</td>\n",
       "      <td>Atlanta Hawks</td>\n",
       "      <td>None</td>\n",
       "      <td>Houston Rockets</td>\n",
       "      <td>None</td>\n",
       "      <td>7:30p</td>\n",
       "      <td>file://./data</td>\n",
       "    </tr>\n",
       "  </tbody>\n",
       "</table>\n",
       "</div>"
      ],
      "text/plain": [
       "   series_id        type  key             date  _smart_source_lineno  \\\n",
       "0          0  reg_season    1  Tue Oct 18 2022                     2   \n",
       "1          0  reg_season    2  Tue Oct 18 2022                     3   \n",
       "2          0  reg_season    3  Wed Oct 19 2022                     4   \n",
       "3          0  reg_season    4  Wed Oct 19 2022                     5   \n",
       "4          0  reg_season    5  Wed Oct 19 2022                     6   \n",
       "\n",
       "                   arena     _smart_source_file           _sdc_extracted_at  \\\n",
       "0              TD Garden  nba_schedule_2023.csv  2022-11-29T15:49:10.947545   \n",
       "1           Chase Center  nba_schedule_2023.csv  2022-11-29T15:49:10.947945   \n",
       "2   Little Caesars Arena  nba_schedule_2023.csv  2022-11-29T15:49:10.948268   \n",
       "3  Gainbridge Fieldhouse  nba_schedule_2023.csv  2022-11-29T15:49:10.948541   \n",
       "4       State Farm Arena  nba_schedule_2023.csv  2022-11-29T15:49:10.948829   \n",
       "\n",
       "    pts            homeneutral notes      visitorneutral attend start_et  \\\n",
       "0  None         Boston Celtics  None  Philadelphia 76ers   None    7:30p   \n",
       "1  None  Golden State Warriors  None  Los Angeles Lakers   None   10:00p   \n",
       "2  None        Detroit Pistons  None       Orlando Magic   None    7:00p   \n",
       "3  None         Indiana Pacers  None  Washington Wizards   None    7:00p   \n",
       "4  None          Atlanta Hawks  None     Houston Rockets   None    7:30p   \n",
       "\n",
       "  _smart_source_bucket  \n",
       "0        file://./data  \n",
       "1        file://./data  \n",
       "2        file://./data  \n",
       "3        file://./data  \n",
       "4        file://./data  "
      ]
     },
     "execution_count": null,
     "metadata": {},
     "output_type": "execute_result"
    }
   ],
   "source": [
    "\n",
    "result3 = schedule.ref(limit=1000);result3.head()"
   ]
  },
  {
   "cell_type": "code",
   "execution_count": null,
   "id": "2a96ed29-a98b-4b90-9e82-e2d2deee54c3",
   "metadata": {},
   "outputs": [
    {
     "name": "stdout",
     "output_type": "stream",
     "text": [
      "16:00:29 [fal]: [WARNING]: Could not read dbt run_results artifact\n",
      "\u001b[0m16:00:29  Registered adapter: duckdb=1.7.0\n",
      "\u001b[0m16:00:29  Running with dbt=1.7.4\n",
      "\u001b[0m16:00:29  Registered adapter: duckdb=1.7.0\n",
      "\u001b[0m16:00:29  [\u001b[33mWARNING\u001b[0m]: Configuration paths exist in your dbt_project.yml file which do not apply to any resources.\n",
      "There are 1 unused configuration paths:\n",
      "- models.test_dbt_project2\n",
      "\u001b[0m16:00:29  Performance info: /home/butch2/play/experiments/nbtools/nbdbt2/test_dbt_project2/target/perf_info.json\n",
      "\u001b[0m16:00:29  Found 1 operation, 1 analysis, 8 sources, 0 exposures, 0 metrics, 505 macros, 0 groups, 0 semantic models\n",
      "16:00:29 [fal]: [\u001b[33mWARNING\u001b[0m]: Could not read dbt sources artifact: Runtime Error\n",
      "  Could not read FreshnessExecutionResultArtifact at \"target/sources.json\" as JSON: [Errno 2] No such file or directory: 'target/sources.json'\n"
     ]
    },
    {
     "data": {
      "text/html": [
       "<div>\n",
       "<style scoped>\n",
       "    .dataframe tbody tr th:only-of-type {\n",
       "        vertical-align: middle;\n",
       "    }\n",
       "\n",
       "    .dataframe tbody tr th {\n",
       "        vertical-align: top;\n",
       "    }\n",
       "\n",
       "    .dataframe thead th {\n",
       "        text-align: right;\n",
       "    }\n",
       "</style>\n",
       "<table border=\"1\" class=\"dataframe\">\n",
       "  <thead>\n",
       "    <tr style=\"text-align: right;\">\n",
       "      <th></th>\n",
       "      <th>series_id</th>\n",
       "      <th>type</th>\n",
       "      <th>key</th>\n",
       "      <th>date</th>\n",
       "      <th>_smart_source_lineno</th>\n",
       "      <th>arena</th>\n",
       "      <th>_smart_source_file</th>\n",
       "      <th>_sdc_extracted_at</th>\n",
       "      <th>pts</th>\n",
       "      <th>homeneutral</th>\n",
       "      <th>notes</th>\n",
       "      <th>visitorneutral</th>\n",
       "      <th>attend</th>\n",
       "      <th>start_et</th>\n",
       "      <th>_smart_source_bucket</th>\n",
       "    </tr>\n",
       "  </thead>\n",
       "  <tbody>\n",
       "    <tr>\n",
       "      <th>0</th>\n",
       "      <td>0</td>\n",
       "      <td>reg_season</td>\n",
       "      <td>1</td>\n",
       "      <td>Tue Oct 18 2022</td>\n",
       "      <td>2</td>\n",
       "      <td>TD Garden</td>\n",
       "      <td>nba_schedule_2023.csv</td>\n",
       "      <td>2022-11-29T15:49:10.947545</td>\n",
       "      <td>None</td>\n",
       "      <td>Boston Celtics</td>\n",
       "      <td>None</td>\n",
       "      <td>Philadelphia 76ers</td>\n",
       "      <td>None</td>\n",
       "      <td>7:30p</td>\n",
       "      <td>file://./data</td>\n",
       "    </tr>\n",
       "    <tr>\n",
       "      <th>1</th>\n",
       "      <td>0</td>\n",
       "      <td>reg_season</td>\n",
       "      <td>2</td>\n",
       "      <td>Tue Oct 18 2022</td>\n",
       "      <td>3</td>\n",
       "      <td>Chase Center</td>\n",
       "      <td>nba_schedule_2023.csv</td>\n",
       "      <td>2022-11-29T15:49:10.947945</td>\n",
       "      <td>None</td>\n",
       "      <td>Golden State Warriors</td>\n",
       "      <td>None</td>\n",
       "      <td>Los Angeles Lakers</td>\n",
       "      <td>None</td>\n",
       "      <td>10:00p</td>\n",
       "      <td>file://./data</td>\n",
       "    </tr>\n",
       "    <tr>\n",
       "      <th>2</th>\n",
       "      <td>0</td>\n",
       "      <td>reg_season</td>\n",
       "      <td>3</td>\n",
       "      <td>Wed Oct 19 2022</td>\n",
       "      <td>4</td>\n",
       "      <td>Little Caesars Arena</td>\n",
       "      <td>nba_schedule_2023.csv</td>\n",
       "      <td>2022-11-29T15:49:10.948268</td>\n",
       "      <td>None</td>\n",
       "      <td>Detroit Pistons</td>\n",
       "      <td>None</td>\n",
       "      <td>Orlando Magic</td>\n",
       "      <td>None</td>\n",
       "      <td>7:00p</td>\n",
       "      <td>file://./data</td>\n",
       "    </tr>\n",
       "    <tr>\n",
       "      <th>3</th>\n",
       "      <td>0</td>\n",
       "      <td>reg_season</td>\n",
       "      <td>4</td>\n",
       "      <td>Wed Oct 19 2022</td>\n",
       "      <td>5</td>\n",
       "      <td>Gainbridge Fieldhouse</td>\n",
       "      <td>nba_schedule_2023.csv</td>\n",
       "      <td>2022-11-29T15:49:10.948541</td>\n",
       "      <td>None</td>\n",
       "      <td>Indiana Pacers</td>\n",
       "      <td>None</td>\n",
       "      <td>Washington Wizards</td>\n",
       "      <td>None</td>\n",
       "      <td>7:00p</td>\n",
       "      <td>file://./data</td>\n",
       "    </tr>\n",
       "    <tr>\n",
       "      <th>4</th>\n",
       "      <td>0</td>\n",
       "      <td>reg_season</td>\n",
       "      <td>5</td>\n",
       "      <td>Wed Oct 19 2022</td>\n",
       "      <td>6</td>\n",
       "      <td>State Farm Arena</td>\n",
       "      <td>nba_schedule_2023.csv</td>\n",
       "      <td>2022-11-29T15:49:10.948829</td>\n",
       "      <td>None</td>\n",
       "      <td>Atlanta Hawks</td>\n",
       "      <td>None</td>\n",
       "      <td>Houston Rockets</td>\n",
       "      <td>None</td>\n",
       "      <td>7:30p</td>\n",
       "      <td>file://./data</td>\n",
       "    </tr>\n",
       "  </tbody>\n",
       "</table>\n",
       "</div>"
      ],
      "text/plain": [
       "   series_id        type  key             date  _smart_source_lineno  \\\n",
       "0          0  reg_season    1  Tue Oct 18 2022                     2   \n",
       "1          0  reg_season    2  Tue Oct 18 2022                     3   \n",
       "2          0  reg_season    3  Wed Oct 19 2022                     4   \n",
       "3          0  reg_season    4  Wed Oct 19 2022                     5   \n",
       "4          0  reg_season    5  Wed Oct 19 2022                     6   \n",
       "\n",
       "                   arena     _smart_source_file           _sdc_extracted_at  \\\n",
       "0              TD Garden  nba_schedule_2023.csv  2022-11-29T15:49:10.947545   \n",
       "1           Chase Center  nba_schedule_2023.csv  2022-11-29T15:49:10.947945   \n",
       "2   Little Caesars Arena  nba_schedule_2023.csv  2022-11-29T15:49:10.948268   \n",
       "3  Gainbridge Fieldhouse  nba_schedule_2023.csv  2022-11-29T15:49:10.948541   \n",
       "4       State Farm Arena  nba_schedule_2023.csv  2022-11-29T15:49:10.948829   \n",
       "\n",
       "    pts            homeneutral notes      visitorneutral attend start_et  \\\n",
       "0  None         Boston Celtics  None  Philadelphia 76ers   None    7:30p   \n",
       "1  None  Golden State Warriors  None  Los Angeles Lakers   None   10:00p   \n",
       "2  None        Detroit Pistons  None       Orlando Magic   None    7:00p   \n",
       "3  None         Indiana Pacers  None  Washington Wizards   None    7:00p   \n",
       "4  None          Atlanta Hawks  None     Houston Rockets   None    7:30p   \n",
       "\n",
       "  _smart_source_bucket  \n",
       "0        file://./data  \n",
       "1        file://./data  \n",
       "2        file://./data  \n",
       "3        file://./data  \n",
       "4        file://./data  "
      ]
     },
     "execution_count": null,
     "metadata": {},
     "output_type": "execute_result"
    }
   ],
   "source": [
    "\n",
    "result4 = schedule.ref();result4.head()"
   ]
  },
  {
   "cell_type": "code",
   "execution_count": null,
   "id": "95b1992f-cc08-4f60-b49b-dd2faff2bfba",
   "metadata": {},
   "outputs": [
    {
     "data": {
      "text/plain": [
       "'models/_sources.yml'"
      ]
     },
     "execution_count": null,
     "metadata": {},
     "output_type": "execute_result"
    }
   ],
   "source": [
    "sources[0].node.path"
   ]
  },
  {
   "cell_type": "code",
   "execution_count": null,
   "id": "a61b376a-d0b6-4166-8a31-700ff9ac5c32",
   "metadata": {},
   "outputs": [
    {
     "data": {
      "text/plain": [
       "'/home/butch2/play/experiments/nbtools/nbdbt2/test_dbt_project2'"
      ]
     },
     "execution_count": null,
     "metadata": {},
     "output_type": "execute_result"
    }
   ],
   "source": [
    "faldbt.project_dir"
   ]
  },
  {
   "cell_type": "code",
   "execution_count": null,
   "id": "e1ee71c9-542f-4941-b09f-4453654a7ab1",
   "metadata": {},
   "outputs": [],
   "source": [
    "from pathlib import Path"
   ]
  },
  {
   "cell_type": "code",
   "execution_count": null,
   "id": "1cbdaaab-cffa-483d-bf1f-e95fd5272d9f",
   "metadata": {},
   "outputs": [
    {
     "data": {
      "text/plain": [
       "Path('/home/butch2/play/experiments/nbtools/nbdbt2/test_dbt_project2/models/_sources.yml')"
      ]
     },
     "execution_count": null,
     "metadata": {},
     "output_type": "execute_result"
    }
   ],
   "source": [
    "source_path = Path(faldbt.project_dir)/sources[0].node.path; source_path"
   ]
  },
  {
   "cell_type": "code",
   "execution_count": null,
   "id": "7a9f1162-6541-48e7-a2cb-784660bf49a2",
   "metadata": {},
   "outputs": [
    {
     "data": {
      "text/plain": [
       "True"
      ]
     },
     "execution_count": null,
     "metadata": {},
     "output_type": "execute_result"
    }
   ],
   "source": [
    "source_path.exists()"
   ]
  },
  {
   "cell_type": "code",
   "execution_count": null,
   "id": "37146052-15fb-4073-9360-71c27d954260",
   "metadata": {},
   "outputs": [],
   "source": [
    "import yaml"
   ]
  },
  {
   "cell_type": "code",
   "execution_count": null,
   "id": "bc911b69-8ce5-443b-a840-8868db40ab74",
   "metadata": {},
   "outputs": [],
   "source": [
    "with open(source_path) as stream:\n",
    "    try:\n",
    "        source_contents = yaml.safe_load(stream)\n",
    "    except yaml.YAMLError as exc:\n",
    "        print(exc)"
   ]
  },
  {
   "cell_type": "code",
   "execution_count": null,
   "id": "95892d48-c1ab-4a9b-867b-3d37837852f6",
   "metadata": {},
   "outputs": [],
   "source": [
    "from types import SimpleNamespace"
   ]
  },
  {
   "cell_type": "code",
   "execution_count": null,
   "id": "16e4ff56-2ec8-474a-8708-6db2a88c1a20",
   "metadata": {},
   "outputs": [],
   "source": [
    "source_base = SimpleNamespace(**source_contents)"
   ]
  },
  {
   "cell_type": "code",
   "execution_count": null,
   "id": "ae44936e-bd6b-4971-a9f9-985abf8c0b52",
   "metadata": {},
   "outputs": [
    {
     "data": {
      "text/plain": [
       "namespace(version=2,\n",
       "          sources=[{'name': 'nba',\n",
       "                    'schema': 'psa',\n",
       "                    'meta': {'external_location': \"{{ env_var('MELTANO_PROJECT_ROOT') }}/data/data_catalog/psa/{identifier}/*.parquet\"},\n",
       "                    'tables': [{'name': 'schedule',\n",
       "                      'identifier': 'nba_schedule_2023',\n",
       "                      'description': 'this is the nba schedule'},\n",
       "                     {'name': 'team_ratings',\n",
       "                      'description': 'team ELO ratings & win totals'},\n",
       "                     {'name': 'xf_series_to_seed',\n",
       "                      'description': 'cross ref table to match series to seeds'},\n",
       "                     {'name': 'nba_elo_latest',\n",
       "                      'description': 'ratings from 538 repo'},\n",
       "                     {'name': 'latest_RAPTOR_by_player',\n",
       "                      'description': '538 RAPTOR ratings by player'},\n",
       "                     {'name': 'latest_RAPTOR_by_team',\n",
       "                      'description': '538 RAPTOR ratings by player by team & game type'}]},\n",
       "                   {'name': 'nba_prep',\n",
       "                    'schema': 'prep',\n",
       "                    'meta': {'external_location': \"{{ env_var('MELTANO_PROJECT_ROOT') }}/data/data_catalog/prep/{identifier}.parquet\"},\n",
       "                    'tables': [{'name': 'elo_post',\n",
       "                      'description': 'elo after running proc for record actual results'},\n",
       "                     {'name': 'results_log',\n",
       "                      'description': 'game results with elo before each game. feeds into elo_post, which holds latest ratings'}]}])"
      ]
     },
     "execution_count": null,
     "metadata": {},
     "output_type": "execute_result"
    }
   ],
   "source": [
    "sb = source_base; sb"
   ]
  },
  {
   "cell_type": "code",
   "execution_count": null,
   "id": "a261fb04-bf54-4580-a52d-77e26ee4a9c1",
   "metadata": {},
   "outputs": [
    {
     "data": {
      "text/plain": [
       "{'name': 'nba',\n",
       " 'schema': 'psa',\n",
       " 'meta': {'external_location': \"{{ env_var('MELTANO_PROJECT_ROOT') }}/data/data_catalog/psa/{identifier}/*.parquet\"},\n",
       " 'tables': [{'name': 'schedule',\n",
       "   'identifier': 'nba_schedule_2023',\n",
       "   'description': 'this is the nba schedule'},\n",
       "  {'name': 'team_ratings', 'description': 'team ELO ratings & win totals'},\n",
       "  {'name': 'xf_series_to_seed',\n",
       "   'description': 'cross ref table to match series to seeds'},\n",
       "  {'name': 'nba_elo_latest', 'description': 'ratings from 538 repo'},\n",
       "  {'name': 'latest_RAPTOR_by_player',\n",
       "   'description': '538 RAPTOR ratings by player'},\n",
       "  {'name': 'latest_RAPTOR_by_team',\n",
       "   'description': '538 RAPTOR ratings by player by team & game type'}]}"
      ]
     },
     "execution_count": null,
     "metadata": {},
     "output_type": "execute_result"
    }
   ],
   "source": [
    "sb.sources[0]"
   ]
  },
  {
   "cell_type": "code",
   "execution_count": null,
   "id": "be8299ee-fed6-4d23-a2e1-d7c2b114d96c",
   "metadata": {},
   "outputs": [],
   "source": [
    "from fastcore.all import L"
   ]
  },
  {
   "cell_type": "code",
   "execution_count": null,
   "id": "43f7cca8-1c82-4bbc-9ad9-a3c42297b768",
   "metadata": {},
   "outputs": [],
   "source": [
    "sbsources = L(sb.sources)"
   ]
  },
  {
   "cell_type": "code",
   "execution_count": null,
   "id": "62e5e706-eddd-41a3-a497-2277a51fd906",
   "metadata": {},
   "outputs": [
    {
     "data": {
      "text/plain": [
       "[{'name': 'schedule',\n",
       "  'identifier': 'nba_schedule_2023',\n",
       "  'description': 'this is the nba schedule'},\n",
       " {'name': 'team_ratings', 'description': 'team ELO ratings & win totals'},\n",
       " {'name': 'xf_series_to_seed',\n",
       "  'description': 'cross ref table to match series to seeds'},\n",
       " {'name': 'nba_elo_latest', 'description': 'ratings from 538 repo'},\n",
       " {'name': 'latest_RAPTOR_by_player',\n",
       "  'description': '538 RAPTOR ratings by player'},\n",
       " {'name': 'latest_RAPTOR_by_team',\n",
       "  'description': '538 RAPTOR ratings by player by team & game type'}]"
      ]
     },
     "execution_count": null,
     "metadata": {},
     "output_type": "execute_result"
    }
   ],
   "source": [
    "sbsources[0]['tables']"
   ]
  },
  {
   "cell_type": "code",
   "execution_count": null,
   "id": "6f273d93-2c76-418b-a6be-b9270284416e",
   "metadata": {},
   "outputs": [],
   "source": []
  }
 ],
 "metadata": {
  "kernelspec": {
   "display_name": "python3",
   "language": "python",
   "name": "python3"
  },
  "widgets": {
   "application/vnd.jupyter.widget-state+json": {
    "state": {},
    "version_major": 2,
    "version_minor": 0
   }
  }
 },
 "nbformat": 4,
 "nbformat_minor": 5
}
